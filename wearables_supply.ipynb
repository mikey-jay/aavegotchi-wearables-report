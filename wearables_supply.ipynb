{
 "cells": [
  {
   "cell_type": "code",
   "execution_count": 1,
   "metadata": {},
   "outputs": [],
   "source": [
    "from shared import *\n",
    "wearable_types_df = get_wearable_types_df()"
   ]
  },
  {
   "attachments": {},
   "cell_type": "markdown",
   "metadata": {},
   "source": [
    "## Wearables Supply"
   ]
  },
  {
   "cell_type": "code",
   "execution_count": 2,
   "metadata": {},
   "outputs": [],
   "source": [
    "wearable_types_df['count']=1\n",
    "column_name_mappings = {'name': 'Wearable', 'rarity': 'Rarity', 'slotNames': 'Slot(s)', 'maxQuantity': 'Total Supply', 'count': 'Total Count'}\n",
    "\n",
    "def get_supply_by_column(column_name):\n",
    "    return wearable_types_df.pivot_table(index=column_name,values='maxQuantity',aggfunc=np.sum,margins=False).reset_index()\n",
    "def get_num_wearables_by_column(column_name):\n",
    "    return wearable_types_df.pivot_table(index=column_name,values='count',aggfunc=np.sum,margins=False).reset_index()\n",
    "def get_supply_and_count_by_column(column_name):\n",
    "    return get_supply_by_column(column_name).join(get_num_wearables_by_column(column_name)['count']).rename(columns=column_name_mappings)\n",
    "\n",
    "supply_column = column_name_mappings['maxQuantity']\n",
    "rarity_column = column_name_mappings['rarity']\n",
    "proportion_of_rarity_column = 'Proportion of Rarity'\n",
    "slot_column = column_name_mappings['slotNames']"
   ]
  },
  {
   "attachments": {},
   "cell_type": "markdown",
   "metadata": {},
   "source": [
    "### Total Wearable Supply"
   ]
  },
  {
   "cell_type": "code",
   "execution_count": 3,
   "metadata": {},
   "outputs": [
    {
     "data": {
      "text/html": [
       "<table id=\"542b9080-5268-417f-9fd0-7c4fb351764e\" class=\"display\"style=\"max-width:100%\"><thead>\n",
       "    <tr style=\"text-align: right;\">\n",
       "      \n",
       "      <th>Total Supply</th>\n",
       "      <th>Total Count</th>\n",
       "    </tr>\n",
       "  </thead><tbody><tr><td>Loading... (need <a href=https://mwouts.github.io/itables/troubleshooting.html>help</a>?)</td></tr></tbody></table>\n",
       "<style>\n",
       "table td {\n",
       "    text-overflow: ellipsis;\n",
       "    overflow: hidden;\n",
       "}\n",
       "\n",
       "table th {\n",
       "    text-overflow: ellipsis;\n",
       "    overflow: hidden;\n",
       "}\n",
       "\n",
       "thead input {\n",
       "    width: 100%;\n",
       "    padding: 3px;\n",
       "    box-sizing: border-box;\n",
       "}\n",
       "\n",
       "tfoot input {\n",
       "    width: 100%;\n",
       "    padding: 3px;\n",
       "    box-sizing: border-box;\n",
       "}\n",
       "\n",
       "</style>\n",
       "<link rel=\"stylesheet\" type=\"text/css\" href=\"https://cdn.datatables.net/1.12.1/css/jquery.dataTables.min.css\">\n",
       "<script type=\"module\">\n",
       "    // Import jquery and DataTable\n",
       "    import 'https://code.jquery.com/jquery-3.6.0.min.js';\n",
       "    import dt from 'https://cdn.datatables.net/1.12.1/js/jquery.dataTables.mjs';\n",
       "    dt($);\n",
       "\n",
       "    // Define the table data\n",
       "    const data = [[\"88,734\", \"265\"]];\n",
       "\n",
       "    // Define the dt_args\n",
       "    let dt_args = {\"order\": [[0, \"asc\"]], \"paging\": false, \"dom\": \"tr\", \"columnDefs\": [{\"className\": \"dt-left\", \"targets\": [0]}]};\n",
       "    dt_args[\"data\"] = data;\n",
       "\n",
       "    $(document).ready(function () {\n",
       "        \n",
       "        $('#542b9080-5268-417f-9fd0-7c4fb351764e').DataTable(dt_args);\n",
       "    });\n",
       "</script>\n"
      ],
      "text/plain": [
       "<IPython.core.display.HTML object>"
      ]
     },
     "metadata": {},
     "output_type": "display_data"
    }
   ],
   "source": [
    "total_supply_df = pd.DataFrame({column_name_mappings['maxQuantity']: [np.sum(wearable_types_df['maxQuantity'])], column_name_mappings['count']: [np.count_nonzero(wearable_types_df['count'])]})\n",
    "show_itable(total_supply_df)"
   ]
  },
  {
   "cell_type": "markdown",
   "metadata": {},
   "source": [
    "### Supply By Wearable"
   ]
  },
  {
   "cell_type": "code",
   "execution_count": 6,
   "metadata": {},
   "outputs": [
    {
     "data": {
      "text/html": [
       "<table id=\"24b581a4-bbcd-44a0-a526-dcd18ba90c25\" class=\"display\"style=\"max-width:100%\"><thead>\n",
       "    <tr style=\"text-align: right;\">\n",
       "      \n",
       "      <th>Wearable</th>\n",
       "      <th>Total Supply</th>\n",
       "      <th>Total Count</th>\n",
       "    </tr>\n",
       "  </thead><tbody><tr><td>Loading... (need <a href=https://mwouts.github.io/itables/troubleshooting.html>help</a>?)</td></tr></tbody></table>\n",
       "<style>\n",
       "table td {\n",
       "    text-overflow: ellipsis;\n",
       "    overflow: hidden;\n",
       "}\n",
       "\n",
       "table th {\n",
       "    text-overflow: ellipsis;\n",
       "    overflow: hidden;\n",
       "}\n",
       "\n",
       "thead input {\n",
       "    width: 100%;\n",
       "    padding: 3px;\n",
       "    box-sizing: border-box;\n",
       "}\n",
       "\n",
       "tfoot input {\n",
       "    width: 100%;\n",
       "    padding: 3px;\n",
       "    box-sizing: border-box;\n",
       "}\n",
       "\n",
       "</style>\n",
       "<link rel=\"stylesheet\" type=\"text/css\" href=\"https://cdn.datatables.net/1.12.1/css/jquery.dataTables.min.css\">\n",
       "<script type=\"module\">\n",
       "    // Import jquery and DataTable\n",
       "    import 'https://code.jquery.com/jquery-3.6.0.min.js';\n",
       "    import dt from 'https://cdn.datatables.net/1.12.1/js/jquery.dataTables.mjs';\n",
       "    dt($);\n",
       "\n",
       "    // Define the table data\n",
       "    const data = [[\"10 Gallon Hat\", \"1,000\", \"1\"], [\"1337 Laptop\", \"50\", \"1\"], [\"23 Jersey\", \"250\", \"1\"], [\"32 ETH Coin\", \"1,000\", \"1\"], [\"3D Glasses\", \"1,000\", \"1\"], [\"APY Shades\", \"500\", \"1\"], [\"Aagent Fedora Hat\", \"308\", \"1\"], [\"Aagent Headset\", \"308\", \"1\"], [\"Aagent Pistol\", \"308\", \"1\"], [\"Aagent Shades\", \"308\", \"1\"], [\"Aagent Shirt\", \"308\", \"1\"], [\"Aantenna Bot\", \"50\", \"1\"], [\"Aastronaut Helmet\", \"1,000\", \"1\"], [\"Aastronaut Suit\", \"1,000\", \"1\"], [\"Aave Boat\", \"5\", \"1\"], [\"Aave Flag\", \"50\", \"1\"], [\"Aave Hero Mask\", \"1,000\", \"1\"], [\"Aave Hero Shirt\", \"1,000\", \"1\"], [\"Aave Plush\", \"1,000\", \"1\"], [\"Alchemica Apron\", \"500\", \"1\"], [\"All-Seeing Eyes\", \"5\", \"1\"], [\"Alluring Eyes\", \"250\", \"1\"], [\"Animal Skins\", \"500\", \"1\"], [\"Ape Mask\", \"100\", \"1\"], [\"Apple Juice\", \"500\", \"1\"], [\"Aviators\", \"500\", \"1\"], [\"Baby Bottle\", \"125\", \"1\"], [\"Bandage\", \"500\", \"1\"], [\"Basketball\", \"1,000\", \"1\"], [\"Beard of Divinity\", \"5\", \"1\"], [\"Beard of Wisdom\", \"5\", \"1\"], [\"Bedtime Milk\", \"250\", \"1\"], [\"Beer Helmet\", \"50\", \"1\"], [\"Big GHST Token\", \"1,000\", \"1\"], [\"Biker Helmet\", \"250\", \"1\"], [\"Biker Jacket\", \"500\", \"1\"], [\"Bitcoin Beanie\", \"500\", \"1\"], [\"Bitcoin Guitar\", \"100\", \"1\"], [\"Black Jeans\", \"500\", \"1\"], [\"Blue Hawaiian Shirt\", \"125\", \"1\"], [\"Blue Plaid\", \"5\", \"1\"], [\"Bow and Arrow\", \"1,000\", \"1\"], [\"Brunette Ponytail\", \"1,000\", \"1\"], [\"Bushy Eyebrows\", \"5\", \"1\"], [\"Camo Hat\", \"1,000\", \"1\"], [\"Camo Pants\", \"1,000\", \"1\"], [\"Candy Jaar\", \"250\", \"1\"], [\"Captain Aave Mask\", \"500\", \"1\"], [\"Captain Aave Shield\", \"500\", \"1\"], [\"Captain Aave Suit\", \"500\", \"1\"], [\"Citaadel Helm\", \"50\", \"1\"], [\"Clutch\", \"125\", \"1\"], [\"Coconut\", \"250\", \"1\"], [\"Coderdan Shades\", \"50\", \"1\"], [\"CoinGecko Tee\", \"250\", \"1\"], [\"Comfy Poncho\", \"500\", \"1\"], [\"Common Rofl\", \"1,000\", \"1\"], [\"Common Wizard Hat\", \"1,000\", \"1\"], [\"Common Wizard Staff\", \"1,000\", \"1\"], [\"Cool shades\", \"1,000\", \"1\"], [\"Cyborg Eye\", \"100\", \"1\"], [\"DAO Egg\", \"250\", \"1\"], [\"Day Dress\", \"125\", \"1\"], [\"Doublesided Axe\", \"500\", \"1\"], [\"Dragon Horns\", \"500\", \"1\"], [\"Dragon Wings\", \"250\", \"1\"], [\"ETH Logo Glasses\", \"1,000\", \"1\"], [\"ETH Tshirt\", \"1,000\", \"1\"], [\"Eagle Armor\", \"250\", \"1\"], [\"Eagle Mask\", \"250\", \"1\"], [\"Elf Ears\", \"1,000\", \"1\"], [\"Energy Gun\", \"50\", \"1\"], [\"Eyes of Devotion\", \"5\", \"1\"], [\"FAKE Beret\", \"50\", \"1\"], [\"FAKE Shirt\", \"50\", \"1\"], [\"Fairy Wings\", \"100\", \"1\"], [\"Farmer Jeans\", \"1,000\", \"1\"], [\"Feathered Cap\", \"500\", \"1\"], [\"Fireball\", \"1,000\", \"1\"], [\"Flaming Apron\", \"100\", \"1\"], [\"Flower Studs\", \"100\", \"1\"], [\"Fluffy Pillow\", \"125\", \"1\"], [\"Forge Goggles\", \"100\", \"1\"], [\"Forked Beard\", \"1,000\", \"1\"], [\"Foxy Mask\", \"500\", \"1\"], [\"Foxy Tail\", \"500\", \"1\"], [\"Galaxy Brain\", \"5\", \"1\"], [\"Game Controller\", \"500\", \"1\"], [\"Gamer Jacket\", \"250\", \"1\"], [\"Gecko Eyes\", \"250\", \"1\"], [\"Gecko Hat\", \"250\", \"1\"], [\"Geisha Headpiece\", \"250\", \"1\"], [\"Gemstone Ring\", \"500\", \"1\"], [\"Gentleman Coat\", \"125\", \"1\"], [\"Gentleman Hat\", \"125\", \"1\"], [\"Geo\", \"100\", \"1\"], [\"Geode Smasher\", \"100\", \"1\"], [\"GldnXross Robe\", \"50\", \"1\"], [\"Godli Locks\", \"5\", \"1\"], [\"Godlike Cacti\", \"5\", \"1\"], [\"Godlike Rofl\", \"5\", \"1\"], [\"Godlike Wizard Hat\", \"5\", \"1\"], [\"Gold Necklace\", \"100\", \"1\"], [\"Gotchi Mug\", \"1,000\", \"1\"], [\"Guy Fawkes Mask\", \"1,000\", \"1\"], [\"H4xx0r Shirt\", \"100\", \"1\"], [\"Haanzo Katana\", \"5\", \"1\"], [\"Halfrekt Shirt\", \"100\", \"1\"], [\"Handsaw\", \"50\", \"1\"], [\"Hazmat Hood\", \"125\", \"1\"], [\"Hazmat Suit\", \"125\", \"1\"], [\"Headphones\", \"500\", \"1\"], [\"Heavenly Robes\", \"5\", \"1\"], [\"Hook Hand\", \"500\", \"1\"], [\"Horned Helmet\", \"1,000\", \"1\"], [\"Horseshoe Mustache\", \"100\", \"1\"], [\"Imperial Moustache\", \"1,000\", \"1\"], [\"Jaay Glasses\", \"10\", \"1\"], [\"Jaay Hairpiece\", \"30\", \"1\"], [\"Jaay Suit\", \"20\", \"1\"], [\"Jamaican Flag\", \"250\", \"1\"], [\"Jordan Hair\", \"50\", \"1\"], [\"Jordan Suit\", \"50\", \"1\"], [\"Kabuto Helmet\", \"5\", \"1\"], [\"Kimono\", \"250\", \"1\"], [\"L2 Sign\", \"1,000\", \"1\"], [\"Lasso\", \"500\", \"1\"], [\"Leather Tunic\", \"1,000\", \"1\"], [\"Legendary Rofl\", \"100\", \"1\"], [\"Legendary Wizard Hat\", \"125\", \"1\"], [\"Legendary Wizard Staff\", \"125\", \"1\"], [\"Lil Bubble Space Suit\", \"100\", \"1\"], [\"Lil Pump Drank\", \"250\", \"1\"], [\"Lil Pump Dreads\", \"5\", \"1\"], [\"Lil Pump Goatee\", \"500\", \"1\"], [\"Lil Pump Shades\", \"100\", \"1\"], [\"Lil Pump Threads\", \"50\", \"1\"], [\"Link Bubbly\", \"150\", \"1\"], [\"Link Cube\", \"5\", \"1\"], [\"Link Mess Dress\", \"150\", \"1\"], [\"Link White Hat\", \"150\", \"1\"], [\"Llamacorn Shirt\", \"5\", \"1\"], [\"Longbow\", \"500\", \"1\"], [\"M67 Grenade\", \"500\", \"1\"], [\"MK2 Grenade\", \"1,000\", \"1\"], [\"Maan Bun\", \"100\", \"1\"], [\"Marc Hair\", \"100\", \"1\"], [\"Marc Outfit\", \"100\", \"1\"], [\"Marine Cap\", \"300\", \"1\"], [\"Marine Jacket\", \"300\", \"1\"], [\"Martini\", \"125\", \"1\"], [\"Matrix Eyes\", \"5\", \"1\"], [\"Mechanical Claw\", \"100\", \"1\"], [\"Milkshake\", \"50\", \"1\"], [\"Miner Helmet\", \"500\", \"1\"], [\"Miner Jeans\", \"500\", \"1\"], [\"Mohawk\", \"500\", \"1\"], [\"Monocle\", \"50\", \"1\"], [\"Mudgen Diamond\", \"50\", \"1\"], [\"Mutton Chops\", \"250\", \"1\"], [\"Mythical Cacti\", \"50\", \"1\"], [\"Mythical Rofl\", \"50\", \"1\"], [\"Mythical Wizard Hat\", \"50\", \"1\"], [\"Nail Gun\", \"250\", \"1\"], [\"Nimbus\", \"1,000\", \"1\"], [\"OKex Sign\", \"40\", \"1\"], [\"Paint Brush\", \"50\", \"1\"], [\"Paint Palette\", \"50\", \"1\"], [\"Pajama Hat\", \"1,000\", \"1\"], [\"Pajama Shirt\", \"500\", \"1\"], [\"Paper Fan\", \"250\", \"1\"], [\"Parasol\", \"50\", \"1\"], [\"Pickaxe\", \"250\", \"1\"], [\"Pillbox Hat\", \"125\", \"1\"], [\"Pirate Coat\", \"500\", \"1\"], [\"Pirate Hat\", \"1,000\", \"1\"], [\"Pirate Patch\", \"250\", \"1\"], [\"Pitchfork\", \"1,000\", \"1\"], [\"Pixelcraft Square\", \"1,000\", \"1\"], [\"Pixelcraft Tee\", \"1,000\", \"1\"], [\"Plate Armor\", \"50\", \"1\"], [\"Plate Shield\", \"50\", \"1\"], [\"Pointy Horns\", \"100\", \"1\"], [\"Polygon Cap\", \"250\", \"1\"], [\"Polygon Shirt\", \"500\", \"1\"], [\"Poncho Hoodie\", \"1,000\", \"1\"], [\"Portal Mage Armor\", \"125\", \"1\"], [\"Portal Mage Axe\", \"125\", \"1\"], [\"Portal Mage Black Axe\", \"5\", \"1\"], [\"Portal Mage Helmet\", \"125\", \"1\"], [\"Princess Hair\", \"50\", \"1\"], [\"Princess Tiara\", \"250\", \"1\"], [\"Punk Shirt\", \"100\", \"1\"], [\"REKT Sign\", \"100\", \"1\"], [\"Radar Eyes\", \"50\", \"1\"], [\"Rainbow Vomit\", \"50\", \"1\"], [\"Rare Cacti\", \"250\", \"1\"], [\"Rare Rofl\", \"250\", \"1\"], [\"Rasta Hat\", \"500\", \"1\"], [\"Rasta Shirt\", \"500\", \"1\"], [\"Red Hair\", \"100\", \"1\"], [\"Red Hawaiian Shirt\", \"50\", \"1\"], [\"Red Headband\", \"250\", \"1\"], [\"Red Plaid\", \"50\", \"1\"], [\"Red Santa Hat\", \"389\", \"1\"], [\"Royal Crown\", \"100\", \"1\"], [\"Royal Robes\", \"50\", \"1\"], [\"Royal Scepter\", \"250\", \"1\"], [\"Safety Glasses\", \"250\", \"1\"], [\"Sergey Beard\", \"50\", \"1\"], [\"Sergey Eyes\", \"50\", \"1\"], [\"Shaaman Hoodie\", \"100\", \"1\"], [\"Shaaman Poncho\", \"50\", \"1\"], [\"Signal Headset\", \"50\", \"1\"], [\"Skateboard\", \"250\", \"1\"], [\"Snapshot Cap\", \"250\", \"1\"], [\"Snapshot Shirt\", \"500\", \"1\"], [\"Snow Camo Hat\", \"500\", \"1\"], [\"Snow Camo Pants\", \"500\", \"1\"], [\"Space Helmet\", \"100\", \"1\"], [\"Spirit Sword\", \"50\", \"1\"], [\"Staff of Creation\", \"5\", \"1\"], [\"Stani Hair\", \"5\", \"1\"], [\"Stani Vest\", \"5\", \"1\"], [\"Steampunk Goggles\", \"250\", \"1\"], [\"Steampunk Trousers\", \"500\", \"1\"], [\"Straw Hat\", \"1,000\", \"1\"], [\"Sus Butterfly\", \"100\", \"1\"], [\"Sushi Bandana\", \"250\", \"1\"], [\"Sushi Coat\", \"250\", \"1\"], [\"Sushi Knife\", \"250\", \"1\"], [\"Sushi Piece\", \"125\", \"1\"], [\"Sweatband\", \"500\", \"1\"], [\"Taoist Robe\", \"5\", \"1\"], [\"Thaave Hammer\", \"250\", \"1\"], [\"Thaave Helmet\", \"250\", \"1\"], [\"Thaave Suit\", \"250\", \"1\"], [\"Tinted Shades\", \"250\", \"1\"], [\"Tiny Crown\", \"500\", \"1\"], [\"Track Shorts\", \"500\", \"1\"], [\"Track Suit\", \"125\", \"1\"], [\"Trezor Wallet\", \"500\", \"1\"], [\"Uncommon Cacti\", \"500\", \"1\"], [\"Uncommon Rofl\", \"500\", \"1\"], [\"Up Arrow\", \"500\", \"1\"], [\"Up Only Shirt\", \"500\", \"1\"], [\"Uranium Rod\", \"5\", \"1\"], [\"V-Neck Shirt\", \"250\", \"1\"], [\"VR Headset\", \"50\", \"1\"], [\"Vote Sign\", \"1,000\", \"1\"], [\"WGMI Shirt\", \"250\", \"1\"], [\"Wagie Cap\", \"500\", \"1\"], [\"Waifu Pillow\", \"100\", \"1\"], [\"Walkie Talkie\", \"300\", \"1\"], [\"Water Jug\", \"125\", \"1\"], [\"Water bottle\", \"500\", \"1\"], [\"Wine\", \"250\", \"1\"], [\"Witchy Cloak\", \"125\", \"1\"], [\"Witchy Hat\", \"125\", \"1\"], [\"Witchy Wand\", \"50\", \"1\"], [\"Wizard Visor\", \"1,000\", \"1\"], [\"Wraangler Jeans\", \"1,000\", \"1\"], [\"Xibot Mohawk\", \"50\", \"1\"], [\"Yoroi Armor\", \"5\", \"1\"], [\"uGOTCHI Token\", \"1,000\", \"1\"]];\n",
       "\n",
       "    // Define the dt_args\n",
       "    let dt_args = {\"order\": [[0, \"asc\"]], \"paging\": true, \"dom\": \"lftipr\", \"columnDefs\": [{\"className\": \"dt-left\", \"targets\": [0]}]};\n",
       "    dt_args[\"data\"] = data;\n",
       "\n",
       "    $(document).ready(function () {\n",
       "        \n",
       "        $('#24b581a4-bbcd-44a0-a526-dcd18ba90c25').DataTable(dt_args);\n",
       "    });\n",
       "</script>\n"
      ],
      "text/plain": [
       "<IPython.core.display.HTML object>"
      ]
     },
     "metadata": {},
     "output_type": "display_data"
    }
   ],
   "source": [
    "supply_by_name_df = get_supply_by_column('name')\n",
    "show_itable_long(supply_by_name_df)"
   ]
  },
  {
   "attachments": {},
   "cell_type": "markdown",
   "metadata": {},
   "source": [
    "### Supply by Slot"
   ]
  },
  {
   "cell_type": "code",
   "execution_count": 8,
   "metadata": {},
   "outputs": [
    {
     "data": {
      "image/png": "[encoded data removed]",
      "text/plain": [
       "<Figure size 864x864 with 2 Axes>"
      ]
     },
     "metadata": {
      "needs_background": "light"
     },
     "output_type": "display_data"
    }
   ],
   "source": [
    "supply_by_slot_df = get_supply_and_count_by_column('slotNames')\n",
    "metrics=[column_name_mappings['maxQuantity'], column_name_mappings['count']]\n",
    "fig, axes = plt.subplots(len(metrics))\n",
    "fig.set_size_inches(12,12)\n",
    "for row in range(0,len(metrics)):\n",
    "    m = metrics[row]\n",
    "    ax = axes[row]\n",
    "    color = ['royalBlue', 'steelBlue'][row]\n",
    "    annotate_bars(ax.bar(supply_by_slot_df[column_name_mappings['slotNames']], supply_by_slot_df[m], color=color), ax)\n",
    "    ax.set_title('{m}'.format(m=m))\n"
   ]
  },
  {
   "attachments": {},
   "cell_type": "markdown",
   "metadata": {},
   "source": [
    "### Supply by Rarity"
   ]
  },
  {
   "cell_type": "code",
   "execution_count": 9,
   "metadata": {},
   "outputs": [
    {
     "data": {
      "text/html": [
       "<table id=\"10d4554b-39b5-4e62-813c-14d6cfc4a4dc\" class=\"display\"style=\"max-width:100%\"><thead>\n",
       "    <tr style=\"text-align: right;\">\n",
       "      \n",
       "      <th>Rarity</th>\n",
       "      <th>Total Supply</th>\n",
       "      <th>Total Count</th>\n",
       "      <th>Proportion of Supply</th>\n",
       "    </tr>\n",
       "  </thead><tbody><tr><td>Loading... (need <a href=https://mwouts.github.io/itables/troubleshooting.html>help</a>?)</td></tr></tbody></table>\n",
       "<style>\n",
       "table td {\n",
       "    text-overflow: ellipsis;\n",
       "    overflow: hidden;\n",
       "}\n",
       "\n",
       "table th {\n",
       "    text-overflow: ellipsis;\n",
       "    overflow: hidden;\n",
       "}\n",
       "\n",
       "thead input {\n",
       "    width: 100%;\n",
       "    padding: 3px;\n",
       "    box-sizing: border-box;\n",
       "}\n",
       "\n",
       "tfoot input {\n",
       "    width: 100%;\n",
       "    padding: 3px;\n",
       "    box-sizing: border-box;\n",
       "}\n",
       "\n",
       "</style>\n",
       "<link rel=\"stylesheet\" type=\"text/css\" href=\"https://cdn.datatables.net/1.12.1/css/jquery.dataTables.min.css\">\n",
       "<script type=\"module\">\n",
       "    // Import jquery and DataTable\n",
       "    import 'https://code.jquery.com/jquery-3.6.0.min.js';\n",
       "    import dt from 'https://cdn.datatables.net/1.12.1/js/jquery.dataTables.mjs';\n",
       "    dt($);\n",
       "\n",
       "    // Define the table data\n",
       "    const data = [[\"common\", \"43,000\", \"43\", \"48.459 %\"], [\"godlike\", \"130\", \"26\", \"0.147 %\"], [\"legendary\", \"5,975\", \"53\", \"6.734 %\"], [\"mythical\", \"2,050\", \"43\", \"2.310 %\"], [\"rare\", \"13,579\", \"52\", \"15.303 %\"], [\"uncommon\", \"24,000\", \"48\", \"27.047 %\"]];\n",
       "\n",
       "    // Define the dt_args\n",
       "    let dt_args = {\"order\": [[1, \"desc\"]], \"paging\": false, \"dom\": \"tr\", \"columnDefs\": [{\"className\": \"dt-left\", \"targets\": [0]}]};\n",
       "    dt_args[\"data\"] = data;\n",
       "\n",
       "    $(document).ready(function () {\n",
       "        \n",
       "        $('#10d4554b-39b5-4e62-813c-14d6cfc4a4dc').DataTable(dt_args);\n",
       "    });\n",
       "</script>\n"
      ],
      "text/plain": [
       "<IPython.core.display.HTML object>"
      ]
     },
     "metadata": {},
     "output_type": "display_data"
    }
   ],
   "source": [
    "supply_by_rarity_df = get_supply_and_count_by_column('rarity')\n",
    "supply_by_rarity_df['Proportion of Supply'] = supply_by_rarity_df.apply(lambda row: row[supply_column] / supply_by_rarity_df[supply_column].sum() * 100, axis=1)\n",
    "show_itable(supply_by_rarity_df, order=[[1, 'desc']], column_formats={'Proportion of Supply': '{:,.3f} %'}) "
   ]
  },
  {
   "attachments": {},
   "cell_type": "markdown",
   "metadata": {},
   "source": [
    "### Supply by Slot & Rarity"
   ]
  },
  {
   "cell_type": "code",
   "execution_count": 10,
   "metadata": {},
   "outputs": [
    {
     "data": {
      "text/html": [
       "<table id=\"d633de60-d8cc-430b-be57-031f4ac7c897\" class=\"display\"style=\"max-width:100%\"><thead>\n",
       "    <tr style=\"text-align: right;\">\n",
       "      \n",
       "      <th>Slot(s)</th>\n",
       "      <th>Rarity</th>\n",
       "      <th>Total Supply</th>\n",
       "      <th>Total Count</th>\n",
       "    </tr>\n",
       "  </thead><tbody><tr><td>Loading... (need <a href=https://mwouts.github.io/itables/troubleshooting.html>help</a>?)</td></tr></tbody></table>\n",
       "<style>\n",
       "table td {\n",
       "    text-overflow: ellipsis;\n",
       "    overflow: hidden;\n",
       "}\n",
       "\n",
       "table th {\n",
       "    text-overflow: ellipsis;\n",
       "    overflow: hidden;\n",
       "}\n",
       "\n",
       "thead input {\n",
       "    width: 100%;\n",
       "    padding: 3px;\n",
       "    box-sizing: border-box;\n",
       "}\n",
       "\n",
       "tfoot input {\n",
       "    width: 100%;\n",
       "    padding: 3px;\n",
       "    box-sizing: border-box;\n",
       "}\n",
       "\n",
       "</style>\n",
       "<link rel=\"stylesheet\" type=\"text/css\" href=\"https://cdn.datatables.net/1.12.1/css/jquery.dataTables.min.css\">\n",
       "<script type=\"module\">\n",
       "    // Import jquery and DataTable\n",
       "    import 'https://code.jquery.com/jquery-3.6.0.min.js';\n",
       "    import dt from 'https://cdn.datatables.net/1.12.1/js/jquery.dataTables.mjs';\n",
       "    dt($);\n",
       "\n",
       "    // Define the table data\n",
       "    const data = [[\"Body\", \"common\", \"8,000\", \"8\"], [\"Body\", \"godlike\", \"30\", \"6\"], [\"Body\", \"legendary\", \"1,825\", \"16\"], [\"Body\", \"mythical\", \"470\", \"10\"], [\"Body\", \"rare\", \"3,108\", \"12\"], [\"Body\", \"uncommon\", \"8,000\", \"16\"], [\"Eyes\", \"common\", \"4,000\", \"4\"], [\"Eyes\", \"godlike\", \"20\", \"4\"], [\"Eyes\", \"legendary\", \"300\", \"3\"], [\"Eyes\", \"mythical\", \"260\", \"6\"], [\"Eyes\", \"rare\", \"1,808\", \"7\"], [\"Eyes\", \"uncommon\", \"1,000\", \"2\"], [\"Face\", \"common\", \"4,000\", \"4\"], [\"Face\", \"godlike\", \"10\", \"2\"], [\"Face\", \"legendary\", \"200\", \"2\"], [\"Face\", \"mythical\", \"150\", \"3\"], [\"Face\", \"rare\", \"558\", \"2\"], [\"Face\", \"uncommon\", \"1,500\", \"3\"], [\"Hand L\", \"common\", \"3,000\", \"3\"], [\"Hand L\", \"legendary\", \"100\", \"1\"], [\"Hand L\", \"rare\", \"250\", \"1\"], [\"Hand L, Hand R\", \"common\", \"11,000\", \"11\"], [\"Hand L, Hand R\", \"godlike\", \"25\", \"5\"], [\"Hand L, Hand R\", \"legendary\", \"1,550\", \"13\"], [\"Hand L, Hand R\", \"mythical\", \"640\", \"13\"], [\"Hand L, Hand R\", \"rare\", \"3,858\", \"15\"], [\"Hand L, Hand R\", \"uncommon\", \"6,000\", \"12\"], [\"Head\", \"common\", \"11,000\", \"11\"], [\"Head\", \"godlike\", \"30\", \"6\"], [\"Head\", \"legendary\", \"1,700\", \"15\"], [\"Head\", \"mythical\", \"380\", \"8\"], [\"Head\", \"rare\", \"3,497\", \"13\"], [\"Head\", \"uncommon\", \"6,000\", \"12\"], [\"Pet\", \"common\", \"2,000\", \"2\"], [\"Pet\", \"godlike\", \"15\", \"3\"], [\"Pet\", \"legendary\", \"300\", \"3\"], [\"Pet\", \"mythical\", \"150\", \"3\"], [\"Pet\", \"rare\", \"500\", \"2\"], [\"Pet\", \"uncommon\", \"1,500\", \"3\"]];\n",
       "\n",
       "    // Define the dt_args\n",
       "    let dt_args = {\"order\": [[0, \"asc\"], [2, \"desc\"]], \"paging\": true, \"dom\": \"lftipr\", \"columnDefs\": [{\"className\": \"dt-left\", \"targets\": [0]}]};\n",
       "    dt_args[\"data\"] = data;\n",
       "\n",
       "    $(document).ready(function () {\n",
       "        \n",
       "        $('#d633de60-d8cc-430b-be57-031f4ac7c897').DataTable(dt_args);\n",
       "    });\n",
       "</script>\n"
      ],
      "text/plain": [
       "<IPython.core.display.HTML object>"
      ]
     },
     "metadata": {},
     "output_type": "display_data"
    }
   ],
   "source": [
    "supply_by_slot_rarity_df = get_supply_and_count_by_column(['slotNames', 'rarity'])\n",
    "show_itable_long(supply_by_slot_rarity_df, order=[[0, 'asc'],[2, 'desc']], column_formats={'Proportion of Rarity': '{:,.1f} %'})"
   ]
  },
  {
   "attachments": {},
   "cell_type": "markdown",
   "metadata": {},
   "source": [
    "### Slot Proportion of Rarity"
   ]
  },
  {
   "cell_type": "code",
   "execution_count": 11,
   "metadata": {},
   "outputs": [
    {
     "data": {
      "image/png": "[encoded data removed]",
      "text/plain": [
       "<Figure size 864x432 with 1 Axes>"
      ]
     },
     "metadata": {
      "needs_background": "light"
     },
     "output_type": "display_data"
    }
   ],
   "source": [
    "%%capture --no-display\n",
    "# hide the warning about bar color and edge color\n",
    "\n",
    "supply_by_slot_rarity_df[proportion_of_rarity_column] = supply_by_slot_rarity_df.apply(lambda row: row[supply_column] / supply_by_rarity_df[supply_by_rarity_df[rarity_column] == row[rarity_column]][supply_column].sum() * 100, axis=1)\n",
    "\n",
    "proportion_of_rarity_chart = GroupedBarChart(\n",
    "    supply_by_slot_rarity_df.sort_values(supply_column, ascending=False),\n",
    "    x_column_name=slot_column,\n",
    "    y_column_name=proportion_of_rarity_column,\n",
    "    series_column_name=rarity_column,\n",
    "    series_colors=rarity_color_mappings)\n",
    "proportion_of_rarity_chart.annotate_bars(annotation_format='{:.0f} %', rotation=-90)\n",
    "proportion_of_rarity_chart.show()"
   ]
  }
 ],
 "metadata": {
  "kernelspec": {
   "display_name": "Python 3.9.13 ('aavegotchi-data-science')",
   "language": "python",
   "name": "python3"
  },
  "language_info": {
   "codemirror_mode": {
    "name": "ipython",
    "version": 3
   },
   "file_extension": ".py",
   "mimetype": "text/x-python",
   "name": "python",
   "nbconvert_exporter": "python",
   "pygments_lexer": "ipython3",
   "version": "3.9.13"
  },
  "vscode": {
   "interpreter": {
    "hash": "ae5a5ab5ac49724ba5fae9eff3080cbf7ba5c647491631efe9a847132401b70c"
   }
  }
 },
 "nbformat": 4,
 "nbformat_minor": 2
}
