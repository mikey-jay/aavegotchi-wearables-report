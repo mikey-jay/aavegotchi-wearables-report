{
 "cells": [
  {
   "cell_type": "code",
   "execution_count": 1,
   "metadata": {},
   "outputs": [],
   "source": [
    "from shared import *\n",
    "import utils.forge as forge\n",
    "from utils.wearable_types import get_wearables_circulating_supply_df\n",
    "from utils.cores import get_core_supply_df\n",
    "wearable_types_df = get_wearable_types_df()\n",
    "forge_items_df = forge.get_forge_items_df()\n",
    "circulating_supply_df = get_wearables_circulating_supply_df(wearable_types_df, forge_items_df)\n",
    "core_supply_df = get_core_supply_df()"
   ]
  },
  {
   "attachments": {},
   "cell_type": "markdown",
   "metadata": {},
   "source": [
    "## Wearables Supply"
   ]
  },
  {
   "cell_type": "code",
   "execution_count": null,
   "metadata": {},
   "outputs": [],
   "source": [
    "wearable_types_df['count']=1\n",
    "column_name_mappings = {'name': 'Wearable', 'rarity': 'Rarity', 'slotNames': 'Slot(s)', 'maxQuantity': 'Max Supply', 'count': 'Total Count', 'circulating_supply': 'Circulating Supply', 'initial_supply': 'Initial Supply', 'change_in_supply': 'Change in Supply', 'timesSmelted': '# Smelted', 'timesForged': '# Forged'}\n",
    "\n",
    "supply_column = column_name_mappings['maxQuantity']\n",
    "rarity_column = column_name_mappings['rarity']\n",
    "proportion_of_rarity_column = 'Proportion of Rarity'\n",
    "slot_column = column_name_mappings['slotNames']"
   ]
  },
  {
   "attachments": {},
   "cell_type": "markdown",
   "metadata": {},
   "source": [
    "### Total Wearable Supply"
   ]
  },
  {
   "cell_type": "code",
   "execution_count": null,
   "metadata": {},
   "outputs": [
    {
     "data": {
      "text/html": [
       "<table id=\"864d8383-8d6a-4bd5-adba-67430e7719d7\" class=\"display\"style=\"max-width:100%\"><thead>\n",
       "    <tr style=\"text-align: right;\">\n",
       "      \n",
       "      <th>Initial Supply</th>\n",
       "      <th># Smelted</th>\n",
       "      <th># Forged</th>\n",
       "      <th>Circulating Supply</th>\n",
       "      <th>Total Count</th>\n",
       "    </tr>\n",
       "  </thead><tbody><tr><td>Loading... (need <a href=https://mwouts.github.io/itables/troubleshooting.html>help</a>?)</td></tr></tbody></table>\n",
       "<style>\n",
       "table td {\n",
       "    text-overflow: ellipsis;\n",
       "    overflow: hidden;\n",
       "}\n",
       "\n",
       "table th {\n",
       "    text-overflow: ellipsis;\n",
       "    overflow: hidden;\n",
       "}\n",
       "\n",
       "thead input {\n",
       "    width: 100%;\n",
       "    padding: 3px;\n",
       "    box-sizing: border-box;\n",
       "}\n",
       "\n",
       "tfoot input {\n",
       "    width: 100%;\n",
       "    padding: 3px;\n",
       "    box-sizing: border-box;\n",
       "}\n",
       "\n",
       "</style>\n",
       "<link rel=\"stylesheet\" type=\"text/css\" href=\"https://cdn.datatables.net/1.12.1/css/jquery.dataTables.min.css\">\n",
       "<script type=\"module\">\n",
       "    // Import jquery and DataTable\n",
       "    import 'https://code.jquery.com/jquery-3.6.0.min.js';\n",
       "    import dt from 'https://cdn.datatables.net/1.12.1/js/jquery.dataTables.mjs';\n",
       "    dt($);\n",
       "\n",
       "    // Define the table data\n",
       "    const data = [[\"82,614\", \"4,126\", \"2,453\", \"80,941\", \"265\"]];\n",
       "\n",
       "    // Define the dt_args\n",
       "    let dt_args = {\"order\": [[0, \"asc\"]], \"paging\": false, \"dom\": \"tr\", \"columnDefs\": [{\"className\": \"dt-left\", \"targets\": [0]}]};\n",
       "    dt_args[\"data\"] = data;\n",
       "\n",
       "    $(document).ready(function () {\n",
       "        \n",
       "        $('#864d8383-8d6a-4bd5-adba-67430e7719d7').DataTable(dt_args);\n",
       "    });\n",
       "</script>\n"
      ],
      "text/plain": [
       "<IPython.core.display.HTML object>"
      ]
     },
     "metadata": {},
     "output_type": "display_data"
    }
   ],
   "source": [
    "total_supply_df = pd.DataFrame({\n",
    "    column_name_mappings['initial_supply']: [circulating_supply_df['initial_supply'].sum()],\n",
    "    column_name_mappings['timesSmelted']: [circulating_supply_df['timesSmelted'].sum()],\n",
    "    column_name_mappings['timesForged']: [circulating_supply_df['timesForged'].sum()],\n",
    "    column_name_mappings['circulating_supply']: [circulating_supply_df['circulating_supply'].sum()],\n",
    "    column_name_mappings['count']: [len(circulating_supply_df)]\n",
    "})\n",
    "show_itable(total_supply_df)"
   ]
  },
  {
   "cell_type": "markdown",
   "metadata": {},
   "source": [
    "### Circulating Supply By Wearable"
   ]
  },
  {
   "cell_type": "code",
   "execution_count": 5,
   "metadata": {},
   "outputs": [
    {
     "data": {
      "text/html": [
       "<table id=\"e8f2e33d-b1fb-46be-8457-e165d2c148a7\" class=\"display\"style=\"max-width:100%\"><thead>\n",
       "    <tr style=\"text-align: right;\">\n",
       "      \n",
       "      <th>name</th>\n",
       "      <th>circulating_supply</th>\n",
       "      <th>initial_supply</th>\n",
       "      <th>timesSmelted</th>\n",
       "      <th>timesForged</th>\n",
       "      <th>maxQuantity</th>\n",
       "    </tr>\n",
       "  </thead><tbody><tr><td>Loading... (need <a href=https://mwouts.github.io/itables/troubleshooting.html>help</a>?)</td></tr></tbody></table>\n",
       "<style>\n",
       "table td {\n",
       "    text-overflow: ellipsis;\n",
       "    overflow: hidden;\n",
       "}\n",
       "\n",
       "table th {\n",
       "    text-overflow: ellipsis;\n",
       "    overflow: hidden;\n",
       "}\n",
       "\n",
       "thead input {\n",
       "    width: 100%;\n",
       "    padding: 3px;\n",
       "    box-sizing: border-box;\n",
       "}\n",
       "\n",
       "tfoot input {\n",
       "    width: 100%;\n",
       "    padding: 3px;\n",
       "    box-sizing: border-box;\n",
       "}\n",
       "\n",
       "</style>\n",
       "<link rel=\"stylesheet\" type=\"text/css\" href=\"https://cdn.datatables.net/1.12.1/css/jquery.dataTables.min.css\">\n",
       "<script type=\"module\">\n",
       "    // Import jquery and DataTable\n",
       "    import 'https://code.jquery.com/jquery-3.6.0.min.js';\n",
       "    import dt from 'https://cdn.datatables.net/1.12.1/js/jquery.dataTables.mjs';\n",
       "    dt($);\n",
       "\n",
       "    // Define the table data\n",
       "    const data = [[\"10 Gallon Hat\", \"788\", \"1,000\", \"223\", \"11\", \"1,000\"], [\"1337 Laptop\", \"46\", \"50\", \"9\", \"5\", \"50\"], [\"23 Jersey\", \"241\", \"250\", \"28\", \"19\", \"250\"], [\"32 ETH Coin\", \"948\", \"1,000\", \"56\", \"4\", \"1,000\"], [\"3D Glasses\", \"282\", \"0\", \"3\", \"285\", \"1,000\"], [\"APY Shades\", \"500\", \"500\", \"3\", \"3\", \"500\"], [\"Aagent Fedora Hat\", \"299\", \"308\", \"20\", \"11\", \"308\"], [\"Aagent Headset\", \"308\", \"308\", \"2\", \"2\", \"308\"], [\"Aagent Pistol\", \"306\", \"308\", \"3\", \"1\", \"308\"], [\"Aagent Shades\", \"301\", \"308\", \"7\", \"0\", \"308\"], [\"Aagent Shirt\", \"301\", \"308\", \"25\", \"18\", \"308\"], [\"Aantenna Bot\", \"49\", \"50\", \"2\", \"1\", \"50\"], [\"Aastronaut Helmet\", \"985\", \"1,000\", \"21\", \"6\", \"1,000\"], [\"Aastronaut Suit\", \"981\", \"1,000\", \"25\", \"6\", \"1,000\"], [\"Aave Boat\", \"5\", \"5\", \"0\", \"0\", \"5\"], [\"Aave Flag\", \"49\", \"50\", \"2\", \"1\", \"50\"], [\"Aave Hero Mask\", \"993\", \"1,000\", \"8\", \"1\", \"1,000\"], [\"Aave Hero Shirt\", \"941\", \"1,000\", \"64\", \"5\", \"1,000\"], [\"Aave Plush\", \"947\", \"1,000\", \"55\", \"2\", \"1,000\"], [\"Alchemica Apron\", \"57\", \"0\", \"0\", \"57\", \"500\"], [\"All-Seeing Eyes\", \"5\", \"5\", \"0\", \"0\", \"5\"], [\"Alluring Eyes\", \"239\", \"250\", \"13\", \"2\", \"250\"], [\"Animal Skins\", \"492\", \"500\", \"14\", \"6\", \"500\"], [\"Ape Mask\", \"99\", \"100\", \"1\", \"0\", \"100\"], [\"Apple Juice\", \"498\", \"500\", \"2\", \"0\", \"500\"], [\"Aviators\", \"498\", \"500\", \"2\", \"0\", \"500\"], [\"Baby Bottle\", \"115\", \"125\", \"28\", \"18\", \"125\"], [\"Bandage\", \"82\", \"0\", \"2\", \"84\", \"500\"], [\"Basketball\", \"911\", \"1,000\", \"93\", \"4\", \"1,000\"], [\"Beard of Divinity\", \"1\", \"0\", \"0\", \"1\", \"5\"], [\"Beard of Wisdom\", \"5\", \"5\", \"0\", \"0\", \"5\"], [\"Bedtime Milk\", \"235\", \"250\", \"36\", \"21\", \"250\"], [\"Beer Helmet\", \"48\", \"50\", \"2\", \"0\", \"50\"], [\"Big GHST Token\", \"991\", \"1,000\", \"14\", \"5\", \"1,000\"], [\"Biker Helmet\", \"237\", \"250\", \"25\", \"12\", \"250\"], [\"Biker Jacket\", \"448\", \"500\", \"55\", \"3\", \"500\"], [\"Bitcoin Beanie\", \"490\", \"500\", \"23\", \"13\", \"500\"], [\"Bitcoin Guitar\", \"100\", \"100\", \"0\", \"0\", \"100\"], [\"Black Jeans\", \"462\", \"500\", \"42\", \"4\", \"500\"], [\"Blue Hawaiian Shirt\", \"117\", \"125\", \"9\", \"1\", \"125\"], [\"Blue Plaid\", \"5\", \"5\", \"0\", \"0\", \"5\"], [\"Bow and Arrow\", \"973\", \"1,000\", \"33\", \"6\", \"1,000\"], [\"Brunette Ponytail\", \"884\", \"1,000\", \"129\", \"13\", \"1,000\"], [\"Bushy Eyebrows\", \"5\", \"5\", \"0\", \"0\", \"5\"], [\"Camo Hat\", \"926\", \"1,000\", \"81\", \"7\", \"1,000\"], [\"Camo Pants\", \"885\", \"1,000\", \"121\", \"6\", \"1,000\"], [\"Candy Jaar\", \"243\", \"250\", \"9\", \"2\", \"250\"], [\"Captain Aave Mask\", \"493\", \"500\", \"10\", \"3\", \"500\"], [\"Captain Aave Shield\", \"500\", \"500\", \"0\", \"0\", \"500\"], [\"Captain Aave Suit\", \"499\", \"500\", \"3\", \"2\", \"500\"], [\"Citaadel Helm\", \"49\", \"50\", \"1\", \"0\", \"50\"], [\"Clutch\", \"123\", \"125\", \"2\", \"0\", \"125\"], [\"Coconut\", \"240\", \"250\", \"10\", \"0\", \"250\"], [\"Coderdan Shades\", \"50\", \"50\", \"0\", \"0\", \"50\"], [\"CoinGecko Tee\", \"236\", \"250\", \"16\", \"2\", \"250\"], [\"Comfy Poncho\", \"469\", \"500\", \"34\", \"3\", \"500\"], [\"Common Rofl\", \"996\", \"1,000\", \"7\", \"3\", \"1,000\"], [\"Common Wizard Hat\", \"992\", \"1,000\", \"11\", \"3\", \"1,000\"], [\"Common Wizard Staff\", \"975\", \"1,000\", \"27\", \"2\", \"1,000\"], [\"Cool shades\", \"994\", \"1,000\", \"8\", \"2\", \"1,000\"], [\"Cyborg Eye\", \"99\", \"100\", \"3\", \"2\", \"100\"], [\"DAO Egg\", \"248\", \"250\", \"2\", \"0\", \"250\"], [\"Day Dress\", \"120\", \"125\", \"7\", \"2\", \"125\"], [\"Doublesided Axe\", \"499\", \"500\", \"2\", \"1\", \"500\"], [\"Dragon Horns\", \"492\", \"500\", \"13\", \"5\", \"500\"], [\"Dragon Wings\", \"250\", \"250\", \"1\", \"1\", \"250\"], [\"ETH Logo Glasses\", \"974\", \"1,000\", \"29\", \"3\", \"1,000\"], [\"ETH Tshirt\", \"962\", \"1,000\", \"129\", \"91\", \"1,000\"], [\"Eagle Armor\", \"249\", \"250\", \"6\", \"5\", \"250\"], [\"Eagle Mask\", \"247\", \"250\", \"10\", \"7\", \"250\"], [\"Elf Ears\", \"995\", \"1,000\", \"7\", \"2\", \"1,000\"], [\"Energy Gun\", \"50\", \"50\", \"1\", \"1\", \"50\"], [\"Eyes of Devotion\", \"1\", \"0\", \"0\", \"1\", \"5\"], [\"FAKE Beret\", \"4\", \"0\", \"0\", \"4\", \"50\"], [\"FAKE Shirt\", \"8\", \"0\", \"0\", \"8\", \"50\"], [\"Fairy Wings\", \"100\", \"100\", \"1\", \"1\", \"100\"], [\"Farmer Jeans\", \"991\", \"1,000\", \"12\", \"3\", \"1,000\"], [\"Feathered Cap\", \"477\", \"500\", \"28\", \"5\", \"500\"], [\"Fireball\", \"999\", \"1,000\", \"1\", \"0\", \"1,000\"], [\"Flaming Apron\", \"12\", \"0\", \"4\", \"16\", \"100\"], [\"Flower Studs\", \"100\", \"100\", \"2\", \"2\", \"100\"], [\"Fluffy Pillow\", \"121\", \"125\", \"6\", \"2\", \"125\"], [\"Forge Goggles\", \"23\", \"0\", \"0\", \"23\", \"100\"], [\"Forked Beard\", \"998\", \"1,000\", \"7\", \"5\", \"1,000\"], [\"Foxy Mask\", \"471\", \"500\", \"34\", \"5\", \"500\"], [\"Foxy Tail\", \"497\", \"500\", \"5\", \"2\", \"500\"], [\"Galaxy Brain\", \"5\", \"5\", \"0\", \"0\", \"5\"], [\"Game Controller\", \"497\", \"500\", \"4\", \"1\", \"500\"], [\"Gamer Jacket\", \"244\", \"250\", \"8\", \"2\", \"250\"], [\"Gecko Eyes\", \"246\", \"250\", \"5\", \"1\", \"250\"], [\"Gecko Hat\", \"250\", \"250\", \"0\", \"0\", \"250\"], [\"Geisha Headpiece\", \"242\", \"250\", \"12\", \"4\", \"250\"], [\"Gemstone Ring\", \"495\", \"500\", \"10\", \"5\", \"500\"], [\"Gentleman Coat\", \"121\", \"125\", \"121\", \"117\", \"125\"], [\"Gentleman Hat\", \"121\", \"125\", \"8\", \"4\", \"125\"], [\"Geo\", \"5\", \"0\", \"0\", \"5\", \"100\"], [\"Geode Smasher\", \"19\", \"0\", \"1\", \"20\", \"100\"], [\"GldnXross Robe\", \"50\", \"50\", \"1\", \"1\", \"50\"], [\"Godli Locks\", \"5\", \"5\", \"1\", \"1\", \"5\"], [\"Godlike Cacti\", \"5\", \"5\", \"0\", \"0\", \"5\"], [\"Godlike Rofl\", \"5\", \"5\", \"0\", \"0\", \"5\"], [\"Godlike Wizard Hat\", \"5\", \"5\", \"0\", \"0\", \"5\"], [\"Gold Necklace\", \"100\", \"100\", \"0\", \"0\", \"100\"], [\"Gotchi Mug\", \"912\", \"1,000\", \"106\", \"18\", \"1,000\"], [\"Guy Fawkes Mask\", \"982\", \"1,000\", \"34\", \"16\", \"1,000\"], [\"H4xx0r Shirt\", \"92\", \"100\", \"227\", \"219\", \"100\"], [\"Haanzo Katana\", \"5\", \"5\", \"0\", \"0\", \"5\"], [\"Halfrekt Shirt\", \"95\", \"100\", \"8\", \"3\", \"100\"], [\"Handsaw\", \"48\", \"50\", \"3\", \"1\", \"50\"], [\"Hazmat Hood\", \"120\", \"125\", \"5\", \"0\", \"125\"], [\"Hazmat Suit\", \"118\", \"125\", \"8\", \"1\", \"125\"], [\"Headphones\", \"499\", \"500\", \"5\", \"4\", \"500\"], [\"Heavenly Robes\", \"1\", \"0\", \"0\", \"1\", \"5\"], [\"Hook Hand\", \"493\", \"500\", \"7\", \"0\", \"500\"], [\"Horned Helmet\", \"940\", \"1,000\", \"65\", \"5\", \"1,000\"], [\"Horseshoe Mustache\", \"98\", \"100\", \"3\", \"1\", \"100\"], [\"Imperial Moustache\", \"994\", \"1,000\", \"7\", \"1\", \"1,000\"], [\"Jaay Glasses\", \"10\", \"10\", \"0\", \"0\", \"10\"], [\"Jaay Hairpiece\", \"28\", \"30\", \"2\", \"0\", \"30\"], [\"Jaay Suit\", \"17\", \"20\", \"8\", \"5\", \"20\"], [\"Jamaican Flag\", \"249\", \"250\", \"1\", \"0\", \"250\"], [\"Jordan Hair\", \"49\", \"50\", \"1\", \"0\", \"50\"], [\"Jordan Suit\", \"43\", \"50\", \"8\", \"1\", \"50\"], [\"Kabuto Helmet\", \"5\", \"5\", \"0\", \"0\", \"5\"], [\"Kimono\", \"239\", \"250\", \"15\", \"4\", \"250\"], [\"L2 Sign\", \"829\", \"1,000\", \"176\", \"5\", \"1,000\"], [\"Lasso\", \"493\", \"500\", \"8\", \"1\", \"500\"], [\"Leather Tunic\", \"920\", \"1,000\", \"90\", \"10\", \"1,000\"], [\"Legendary Rofl\", \"95\", \"100\", \"7\", \"2\", \"100\"], [\"Legendary Wizard Hat\", \"118\", \"125\", \"45\", \"38\", \"125\"], [\"Legendary Wizard Staff\", \"124\", \"125\", \"1\", \"0\", \"125\"], [\"Lil Bubble Space Suit\", \"97\", \"100\", \"5\", \"2\", \"100\"], [\"Lil Pump Drank\", \"241\", \"250\", \"11\", \"2\", \"250\"], [\"Lil Pump Dreads\", \"5\", \"5\", \"0\", \"0\", \"5\"], [\"Lil Pump Goatee\", \"495\", \"500\", \"6\", \"1\", \"500\"], [\"Lil Pump Shades\", \"98\", \"100\", \"3\", \"1\", \"100\"], [\"Lil Pump Threads\", \"50\", \"50\", \"1\", \"1\", \"50\"], [\"Link Bubbly\", \"148\", \"150\", \"2\", \"0\", \"150\"], [\"Link Cube\", \"5\", \"5\", \"0\", \"0\", \"5\"], [\"Link Mess Dress\", \"140\", \"150\", \"15\", \"5\", \"150\"], [\"Link White Hat\", \"147\", \"150\", \"4\", \"1\", \"150\"], [\"Llamacorn Shirt\", \"5\", \"5\", \"0\", \"0\", \"5\"], [\"Longbow\", \"498\", \"500\", \"10\", \"8\", \"500\"], [\"M67 Grenade\", \"500\", \"500\", \"1\", \"1\", \"500\"], [\"MK2 Grenade\", \"1,000\", \"1,000\", \"0\", \"0\", \"1,000\"], [\"Maan Bun\", \"94\", \"100\", \"16\", \"10\", \"100\"], [\"Marc Hair\", \"97\", \"100\", \"4\", \"1\", \"100\"], [\"Marc Outfit\", \"96\", \"100\", \"4\", \"0\", \"100\"], [\"Marine Cap\", \"299\", \"300\", \"1\", \"0\", \"300\"], [\"Marine Jacket\", \"297\", \"300\", \"3\", \"0\", \"300\"], [\"Martini\", \"123\", \"125\", \"7\", \"5\", \"125\"], [\"Matrix Eyes\", \"4\", \"5\", \"1\", \"0\", \"5\"], [\"Mechanical Claw\", \"98\", \"100\", \"4\", \"2\", \"100\"], [\"Milkshake\", \"49\", \"50\", \"3\", \"2\", \"50\"], [\"Miner Helmet\", \"482\", \"500\", \"22\", \"4\", \"500\"], [\"Miner Jeans\", \"446\", \"500\", \"56\", \"2\", \"500\"], [\"Mohawk\", \"492\", \"500\", \"14\", \"6\", \"500\"], [\"Monocle\", \"47\", \"50\", \"3\", \"0\", \"50\"], [\"Mudgen Diamond\", \"50\", \"50\", \"0\", \"0\", \"50\"], [\"Mutton Chops\", \"241\", \"250\", \"11\", \"2\", \"250\"], [\"Mythical Cacti\", \"50\", \"50\", \"1\", \"1\", \"50\"], [\"Mythical Rofl\", \"50\", \"50\", \"0\", \"0\", \"50\"], [\"Mythical Wizard Hat\", \"47\", \"50\", \"5\", \"2\", \"50\"], [\"Nail Gun\", \"34\", \"0\", \"6\", \"40\", \"250\"], [\"Nimbus\", \"281\", \"0\", \"2\", \"283\", \"1,000\"], [\"OKex Sign\", \"40\", \"40\", \"0\", \"0\", \"40\"], [\"Paint Brush\", \"8\", \"0\", \"0\", \"8\", \"50\"], [\"Paint Palette\", \"3\", \"0\", \"0\", \"3\", \"50\"], [\"Pajama Hat\", \"957\", \"1,000\", \"49\", \"6\", \"1,000\"], [\"Pajama Shirt\", \"484\", \"500\", \"18\", \"2\", \"500\"], [\"Paper Fan\", \"248\", \"250\", \"2\", \"0\", \"250\"], [\"Parasol\", \"47\", \"50\", \"4\", \"1\", \"50\"], [\"Pickaxe\", \"245\", \"250\", \"12\", \"7\", \"250\"], [\"Pillbox Hat\", \"122\", \"125\", \"20\", \"17\", \"125\"], [\"Pirate Coat\", \"454\", \"500\", \"57\", \"11\", \"500\"], [\"Pirate Hat\", \"958\", \"1,000\", \"48\", \"6\", \"1,000\"], [\"Pirate Patch\", \"249\", \"250\", \"4\", \"3\", \"250\"], [\"Pitchfork\", \"999\", \"1,000\", \"1\", \"0\", \"1,000\"], [\"Pixelcraft Square\", \"95\", \"0\", \"4\", \"99\", \"1,000\"], [\"Pixelcraft Tee\", \"210\", \"0\", \"5\", \"215\", \"1,000\"], [\"Plate Armor\", \"50\", \"50\", \"0\", \"0\", \"50\"], [\"Plate Shield\", \"50\", \"50\", \"0\", \"0\", \"50\"], [\"Pointy Horns\", \"100\", \"100\", \"1\", \"1\", \"100\"], [\"Polygon Cap\", \"246\", \"250\", \"5\", \"1\", \"250\"], [\"Polygon Shirt\", \"490\", \"500\", \"17\", \"7\", \"500\"], [\"Poncho Hoodie\", \"939\", \"1,000\", \"68\", \"7\", \"1,000\"], [\"Portal Mage Armor\", \"125\", \"125\", \"1\", \"1\", \"125\"], [\"Portal Mage Axe\", \"123\", \"125\", \"4\", \"2\", \"125\"], [\"Portal Mage Black Axe\", \"5\", \"5\", \"1\", \"1\", \"5\"], [\"Portal Mage Helmet\", \"125\", \"125\", \"1\", \"1\", \"125\"], [\"Princess Hair\", \"50\", \"50\", \"3\", \"3\", \"50\"], [\"Princess Tiara\", \"249\", \"250\", \"2\", \"1\", \"250\"], [\"Punk Shirt\", \"94\", \"100\", \"12\", \"6\", \"100\"], [\"REKT Sign\", \"100\", \"100\", \"0\", \"0\", \"100\"], [\"Radar Eyes\", \"49\", \"50\", \"2\", \"1\", \"50\"], [\"Rainbow Vomit\", \"50\", \"50\", \"1\", \"1\", \"50\"], [\"Rare Cacti\", \"250\", \"250\", \"0\", \"0\", \"250\"], [\"Rare Rofl\", \"250\", \"250\", \"0\", \"0\", \"250\"], [\"Rasta Hat\", \"472\", \"500\", \"33\", \"5\", \"500\"], [\"Rasta Shirt\", \"482\", \"500\", \"19\", \"1\", \"500\"], [\"Red Hair\", \"97\", \"100\", \"16\", \"13\", \"100\"], [\"Red Hawaiian Shirt\", \"44\", \"50\", \"8\", \"2\", \"50\"], [\"Red Headband\", \"243\", \"250\", \"16\", \"9\", \"250\"], [\"Red Plaid\", \"49\", \"50\", \"5\", \"4\", \"50\"], [\"Red Santa Hat\", \"363\", \"389\", \"29\", \"3\", \"389\"], [\"Royal Crown\", \"100\", \"100\", \"0\", \"0\", \"100\"], [\"Royal Robes\", \"47\", \"50\", \"9\", \"6\", \"50\"], [\"Royal Scepter\", \"250\", \"250\", \"3\", \"3\", \"250\"], [\"Safety Glasses\", \"29\", \"0\", \"4\", \"33\", \"250\"], [\"Sergey Beard\", \"50\", \"50\", \"0\", \"0\", \"50\"], [\"Sergey Eyes\", \"50\", \"50\", \"3\", \"3\", \"50\"], [\"Shaaman Hoodie\", \"96\", \"100\", \"7\", \"3\", \"100\"], [\"Shaaman Poncho\", \"49\", \"50\", \"1\", \"0\", \"50\"], [\"Signal Headset\", \"50\", \"50\", \"0\", \"0\", \"50\"], [\"Skateboard\", \"247\", \"250\", \"3\", \"0\", \"250\"], [\"Snapshot Cap\", \"244\", \"250\", \"11\", \"5\", \"250\"], [\"Snapshot Shirt\", \"458\", \"500\", \"47\", \"5\", \"500\"], [\"Snow Camo Hat\", \"480\", \"500\", \"30\", \"10\", \"500\"], [\"Snow Camo Pants\", \"478\", \"500\", \"30\", \"8\", \"500\"], [\"Space Helmet\", \"92\", \"100\", \"16\", \"8\", \"100\"], [\"Spirit Sword\", \"50\", \"50\", \"0\", \"0\", \"50\"], [\"Staff of Creation\", \"2\", \"0\", \"0\", \"2\", \"5\"], [\"Stani Hair\", \"5\", \"5\", \"0\", \"0\", \"5\"], [\"Stani Vest\", \"5\", \"5\", \"0\", \"0\", \"5\"], [\"Steampunk Goggles\", \"244\", \"250\", \"8\", \"2\", \"250\"], [\"Steampunk Trousers\", \"463\", \"500\", \"49\", \"12\", \"500\"], [\"Straw Hat\", \"995\", \"1,000\", \"9\", \"4\", \"1,000\"], [\"Sus Butterfly\", \"100\", \"100\", \"1\", \"1\", \"100\"], [\"Sushi Bandana\", \"244\", \"250\", \"11\", \"5\", \"250\"], [\"Sushi Coat\", \"246\", \"250\", \"6\", \"2\", \"250\"], [\"Sushi Knife\", \"250\", \"250\", \"2\", \"2\", \"250\"], [\"Sushi Piece\", \"122\", \"125\", \"3\", \"0\", \"125\"], [\"Sweatband\", \"497\", \"500\", \"4\", \"1\", \"500\"], [\"Taoist Robe\", \"5\", \"5\", \"0\", \"0\", \"5\"], [\"Thaave Hammer\", \"250\", \"250\", \"0\", \"0\", \"250\"], [\"Thaave Helmet\", \"246\", \"250\", \"6\", \"2\", \"250\"], [\"Thaave Suit\", \"250\", \"250\", \"3\", \"3\", \"250\"], [\"Tinted Shades\", \"245\", \"250\", \"7\", \"2\", \"250\"], [\"Tiny Crown\", \"488\", \"500\", \"17\", \"5\", \"500\"], [\"Track Shorts\", \"471\", \"500\", \"29\", \"0\", \"500\"], [\"Track Suit\", \"120\", \"125\", \"11\", \"6\", \"125\"], [\"Trezor Wallet\", \"498\", \"500\", \"4\", \"2\", \"500\"], [\"Uncommon Cacti\", \"500\", \"500\", \"0\", \"0\", \"500\"], [\"Uncommon Rofl\", \"499\", \"500\", \"1\", \"0\", \"500\"], [\"Up Arrow\", \"491\", \"500\", \"10\", \"1\", \"500\"], [\"Up Only Shirt\", \"476\", \"500\", \"28\", \"4\", \"500\"], [\"Uranium Rod\", \"5\", \"5\", \"0\", \"0\", \"5\"], [\"V-Neck Shirt\", \"232\", \"250\", \"35\", \"17\", \"250\"], [\"VR Headset\", \"49\", \"50\", \"2\", \"1\", \"50\"], [\"Vote Sign\", \"961\", \"1,000\", \"46\", \"7\", \"1,000\"], [\"WGMI Shirt\", \"242\", \"250\", \"22\", \"14\", \"250\"], [\"Wagie Cap\", \"484\", \"500\", \"17\", \"1\", \"500\"], [\"Waifu Pillow\", \"99\", \"100\", \"4\", \"3\", \"100\"], [\"Walkie Talkie\", \"298\", \"300\", \"4\", \"2\", \"300\"], [\"Water Jug\", \"119\", \"125\", \"40\", \"34\", \"125\"], [\"Water bottle\", \"496\", \"500\", \"5\", \"1\", \"500\"], [\"Wine\", \"249\", \"250\", \"3\", \"2\", \"250\"], [\"Witchy Cloak\", \"124\", \"125\", \"19\", \"18\", \"125\"], [\"Witchy Hat\", \"122\", \"125\", \"5\", \"2\", \"125\"], [\"Witchy Wand\", \"47\", \"50\", \"4\", \"1\", \"50\"], [\"Wizard Visor\", \"993\", \"1,000\", \"14\", \"7\", \"1,000\"], [\"Wraangler Jeans\", \"924\", \"1,000\", \"83\", \"7\", \"1,000\"], [\"Xibot Mohawk\", \"50\", \"50\", \"1\", \"1\", \"50\"], [\"Yoroi Armor\", \"5\", \"5\", \"1\", \"1\", \"5\"], [\"uGOTCHI Token\", \"985\", \"1,000\", \"19\", \"4\", \"1,000\"]];\n",
       "\n",
       "    // Define the dt_args\n",
       "    let dt_args = {\"order\": [[0, \"asc\"]], \"paging\": true, \"dom\": \"lftipr\", \"columnDefs\": [{\"className\": \"dt-left\", \"targets\": [0]}]};\n",
       "    dt_args[\"data\"] = data;\n",
       "\n",
       "    $(document).ready(function () {\n",
       "        \n",
       "        $('#e8f2e33d-b1fb-46be-8457-e165d2c148a7').DataTable(dt_args);\n",
       "    });\n",
       "</script>\n"
      ],
      "text/plain": [
       "<IPython.core.display.HTML object>"
      ]
     },
     "metadata": {},
     "output_type": "display_data"
    }
   ],
   "source": [
    "supply_by_name_df =circulating_supply_df.pivot_table(index='name',values=['maxQuantity', 'initial_supply', 'timesSmelted', 'timesForged', 'circulating_supply'],aggfunc=np.sum,margins=False).reset_index()\n",
    "\n",
    "show_itable_long(supply_by_name_df[['name', 'circulating_supply', 'initial_supply', 'timesSmelted', 'timesForged', 'maxQuantity']])"
   ]
  }
 ],
 "metadata": {
  "kernelspec": {
   "display_name": "Python 3.9.13 ('aavegotchi-data-science')",
   "language": "python",
   "name": "python3"
  },
  "language_info": {
   "codemirror_mode": {
    "name": "ipython",
    "version": 3
   },
   "file_extension": ".py",
   "mimetype": "text/x-python",
   "name": "python",
   "nbconvert_exporter": "python",
   "pygments_lexer": "ipython3",
   "version": "3.9.13"
  },
  "vscode": {
   "interpreter": {
    "hash": "ae5a5ab5ac49724ba5fae9eff3080cbf7ba5c647491631efe9a847132401b70c"
   }
  }
 },
 "nbformat": 4,
 "nbformat_minor": 2
}
