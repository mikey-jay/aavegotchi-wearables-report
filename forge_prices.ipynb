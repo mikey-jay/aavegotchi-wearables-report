{
 "cells": [
  {
   "cell_type": "code",
   "execution_count": 1,
   "metadata": {},
   "outputs": [],
   "source": [
    "from shared import *\n",
    "import utils.forge_purchases as forge_purchases\n",
    "import utils.forge_item_types as forge_item_types\n",
    "import utils.wearable_types as wearable_types\n",
    "wearable_types_df = wearable_types.get_wearable_types_df()\n",
    "forge_item_types_df = forge_item_types.get_forge_item_types_df(wearable_types_df)\n",
    "forge_purchases_df = forge_purchases.get_forge_purchases_df()\n",
    "\n",
    "forge_purchases_types_df = forge_purchases.get_forge_purchases_types_df(forge_purchases_df, forge_item_types_df)\n",
    "get_median_price_by_column = lambda column, df=forge_purchases_types_df: pd.DataFrame(df[[column, 'price']].groupby(column).median()).rename(columns={'price': 'Median Price (GHST)'})"
   ]
  },
  {
   "cell_type": "markdown",
   "metadata": {},
   "source": [
    "## Forge Item Baazaar Sales Prices"
   ]
  },
  {
   "cell_type": "markdown",
   "metadata": {},
   "source": [
    "### Alloy Price Over Time"
   ]
  },
  {
   "cell_type": "code",
   "execution_count": 11,
   "metadata": {},
   "outputs": [
    {
     "data": {
      "image/png": "[encoded data removed]",
      "text/plain": [
       "<Figure size 864x432 with 1 Axes>"
      ]
     },
     "metadata": {
      "needs_background": "light"
     },
     "output_type": "display_data"
    }
   ],
   "source": [
    "alloy_price_by_month = get_median_price_by_column('yearMonthPurchased', forge_purchases_types_df[forge_purchases_types_df['category_name'] == 'alloy']).reset_index()\n",
    "fig, ax = get_bar_charts(alloy_price_by_month, 'yearMonthPurchased', ['Median Price (GHST)'], [GHST_COLOR], annotate_format='{:,.4f}')"
   ]
  },
  {
   "cell_type": "markdown",
   "metadata": {},
   "source": [
    "### Core Price by Rarity"
   ]
  },
  {
   "cell_type": "code",
   "execution_count": 3,
   "metadata": {},
   "outputs": [
    {
     "data": {
      "text/html": [
       "<table id=\"9b7b1b8b-cf68-4b8d-b2fa-a6af5eab747d\" class=\"display\"style=\"max-width:100%\"><thead>\n",
       "    <tr style=\"text-align: right;\">\n",
       "      \n",
       "      <th>Core Rarity</th>\n",
       "      <th>Median Price (GHST)</th>\n",
       "    </tr>\n",
       "  </thead><tbody><tr><td>Loading... (need <a href=https://mwouts.github.io/itables/troubleshooting.html>help</a>?)</td></tr></tbody></table>\n",
       "<style>\n",
       "table td {\n",
       "    text-overflow: ellipsis;\n",
       "    overflow: hidden;\n",
       "}\n",
       "\n",
       "table th {\n",
       "    text-overflow: ellipsis;\n",
       "    overflow: hidden;\n",
       "}\n",
       "\n",
       "thead input {\n",
       "    width: 100%;\n",
       "    padding: 3px;\n",
       "    box-sizing: border-box;\n",
       "}\n",
       "\n",
       "tfoot input {\n",
       "    width: 100%;\n",
       "    padding: 3px;\n",
       "    box-sizing: border-box;\n",
       "}\n",
       "\n",
       "</style>\n",
       "<link rel=\"stylesheet\" type=\"text/css\" href=\"https://cdn.datatables.net/1.12.1/css/jquery.dataTables.min.css\">\n",
       "<script type=\"module\">\n",
       "    // Import jquery and DataTable\n",
       "    import 'https://code.jquery.com/jquery-3.6.0.min.js';\n",
       "    import dt from 'https://cdn.datatables.net/1.12.1/js/jquery.dataTables.mjs';\n",
       "    dt($);\n",
       "\n",
       "    // Define the table data\n",
       "    const data = [[\"common\", \"5.76\"], [\"uncommon\", \"7.50\"], [\"rare\", \"27.00\"], [\"legendary\", \"54.80\"], [\"mythical\", \"525.00\"]];\n",
       "\n",
       "    // Define the dt_args\n",
       "    let dt_args = {\"order\": [1, \"asc\"], \"paging\": false, \"dom\": \"tr\", \"columnDefs\": [{\"className\": \"dt-left\", \"targets\": [0]}]};\n",
       "    dt_args[\"data\"] = data;\n",
       "\n",
       "    $(document).ready(function () {\n",
       "        \n",
       "        $('#9b7b1b8b-cf68-4b8d-b2fa-a6af5eab747d').DataTable(dt_args);\n",
       "    });\n",
       "</script>\n"
      ],
      "text/plain": [
       "<IPython.core.display.HTML object>"
      ]
     },
     "metadata": {},
     "output_type": "display_data"
    }
   ],
   "source": [
    "price_by_core_rarity = get_median_price_by_column('rarity', forge_purchases_types_df[forge_purchases_types_df['category_name'] == 'core'])\n",
    "price_by_core_rarity.sort_values(by='Median Price (GHST)', ascending=True, inplace=True)\n",
    "price_by_core_rarity.reset_index(inplace=True)\n",
    "price_by_core_rarity.rename(columns={'rarity': 'Core Rarity'}, inplace=True)\n",
    "show_itable(price_by_core_rarity, order=[1, 'asc'], column_formats={'Median Price (GHST)': '{:,.2f}'})"
   ]
  },
  {
   "cell_type": "markdown",
   "metadata": {},
   "source": [
    "### Schematic Price by Rarity"
   ]
  },
  {
   "cell_type": "code",
   "execution_count": 4,
   "metadata": {},
   "outputs": [
    {
     "data": {
      "text/html": [
       "<table id=\"00df0fd9-6ca8-489f-9b89-b587d41c59b4\" class=\"display\"style=\"max-width:100%\"><thead>\n",
       "    <tr style=\"text-align: right;\">\n",
       "      \n",
       "      <th>Schematic Rarity</th>\n",
       "      <th>Median Price (GHST)</th>\n",
       "    </tr>\n",
       "  </thead><tbody><tr><td>Loading... (need <a href=https://mwouts.github.io/itables/troubleshooting.html>help</a>?)</td></tr></tbody></table>\n",
       "<style>\n",
       "table td {\n",
       "    text-overflow: ellipsis;\n",
       "    overflow: hidden;\n",
       "}\n",
       "\n",
       "table th {\n",
       "    text-overflow: ellipsis;\n",
       "    overflow: hidden;\n",
       "}\n",
       "\n",
       "thead input {\n",
       "    width: 100%;\n",
       "    padding: 3px;\n",
       "    box-sizing: border-box;\n",
       "}\n",
       "\n",
       "tfoot input {\n",
       "    width: 100%;\n",
       "    padding: 3px;\n",
       "    box-sizing: border-box;\n",
       "}\n",
       "\n",
       "</style>\n",
       "<link rel=\"stylesheet\" type=\"text/css\" href=\"https://cdn.datatables.net/1.12.1/css/jquery.dataTables.min.css\">\n",
       "<script type=\"module\">\n",
       "    // Import jquery and DataTable\n",
       "    import 'https://code.jquery.com/jquery-3.6.0.min.js';\n",
       "    import dt from 'https://cdn.datatables.net/1.12.1/js/jquery.dataTables.mjs';\n",
       "    dt($);\n",
       "\n",
       "    // Define the table data\n",
       "    const data = [[\"common\", \"2.40\"], [\"uncommon\", \"2.83\"], [\"rare\", \"19.99\"], [\"legendary\", \"66.60\"], [\"mythical\", \"142.50\"]];\n",
       "\n",
       "    // Define the dt_args\n",
       "    let dt_args = {\"order\": [1, \"asc\"], \"paging\": false, \"dom\": \"tr\", \"columnDefs\": [{\"className\": \"dt-left\", \"targets\": [0]}]};\n",
       "    dt_args[\"data\"] = data;\n",
       "\n",
       "    $(document).ready(function () {\n",
       "        \n",
       "        $('#00df0fd9-6ca8-489f-9b89-b587d41c59b4').DataTable(dt_args);\n",
       "    });\n",
       "</script>\n"
      ],
      "text/plain": [
       "<IPython.core.display.HTML object>"
      ]
     },
     "metadata": {},
     "output_type": "display_data"
    }
   ],
   "source": [
    "price_by_schematic_rarity = get_median_price_by_column('rarity', forge_purchases_types_df[forge_purchases_types_df['category_name'] == 'schematic'])\n",
    "price_by_schematic_rarity.sort_values(by='Median Price (GHST)', ascending=True, inplace=True)\n",
    "price_by_schematic_rarity.reset_index(inplace=True)\n",
    "price_by_schematic_rarity.rename(columns={'rarity': 'Schematic Rarity'}, inplace=True)\n",
    "show_itable(price_by_schematic_rarity, order=[1, 'asc'], column_formats={'Median Price (GHST)': '{:,.2f}'})"
   ]
  },
  {
   "cell_type": "markdown",
   "metadata": {},
   "source": [
    "### Geode Price by Rarity"
   ]
  },
  {
   "cell_type": "code",
   "execution_count": 5,
   "metadata": {},
   "outputs": [
    {
     "data": {
      "text/html": [
       "<table id=\"feadb186-7358-4ad9-b487-2a0c4e7a723f\" class=\"display\"style=\"max-width:100%\"><thead>\n",
       "    <tr style=\"text-align: right;\">\n",
       "      \n",
       "      <th>Geode Rarity</th>\n",
       "      <th>Median Price (GHST)</th>\n",
       "    </tr>\n",
       "  </thead><tbody><tr><td>Loading... (need <a href=https://mwouts.github.io/itables/troubleshooting.html>help</a>?)</td></tr></tbody></table>\n",
       "<style>\n",
       "table td {\n",
       "    text-overflow: ellipsis;\n",
       "    overflow: hidden;\n",
       "}\n",
       "\n",
       "table th {\n",
       "    text-overflow: ellipsis;\n",
       "    overflow: hidden;\n",
       "}\n",
       "\n",
       "thead input {\n",
       "    width: 100%;\n",
       "    padding: 3px;\n",
       "    box-sizing: border-box;\n",
       "}\n",
       "\n",
       "tfoot input {\n",
       "    width: 100%;\n",
       "    padding: 3px;\n",
       "    box-sizing: border-box;\n",
       "}\n",
       "\n",
       "</style>\n",
       "<link rel=\"stylesheet\" type=\"text/css\" href=\"https://cdn.datatables.net/1.12.1/css/jquery.dataTables.min.css\">\n",
       "<script type=\"module\">\n",
       "    // Import jquery and DataTable\n",
       "    import 'https://code.jquery.com/jquery-3.6.0.min.js';\n",
       "    import dt from 'https://cdn.datatables.net/1.12.1/js/jquery.dataTables.mjs';\n",
       "    dt($);\n",
       "\n",
       "    // Define the table data\n",
       "    const data = [[\"common\", \"1.00\"], [\"uncommon\", \"2.80\"], [\"rare\", \"7.17\"], [\"legendary\", \"25.85\"], [\"mythical\", \"89.50\"], [\"godlike\", \"980.00\"]];\n",
       "\n",
       "    // Define the dt_args\n",
       "    let dt_args = {\"order\": [1, \"asc\"], \"paging\": false, \"dom\": \"tr\", \"columnDefs\": [{\"className\": \"dt-left\", \"targets\": [0]}]};\n",
       "    dt_args[\"data\"] = data;\n",
       "\n",
       "    $(document).ready(function () {\n",
       "        \n",
       "        $('#feadb186-7358-4ad9-b487-2a0c4e7a723f').DataTable(dt_args);\n",
       "    });\n",
       "</script>\n"
      ],
      "text/plain": [
       "<IPython.core.display.HTML object>"
      ]
     },
     "metadata": {},
     "output_type": "display_data"
    }
   ],
   "source": [
    "price_by_geode_rarity = get_median_price_by_column('rarity', forge_purchases_types_df[forge_purchases_types_df['category_name'] == 'geode'])\n",
    "price_by_geode_rarity.sort_values(by='Median Price (GHST)', ascending=True, inplace=True)\n",
    "price_by_geode_rarity.reset_index(inplace=True)\n",
    "price_by_geode_rarity.rename(columns={'rarity': 'Geode Rarity'}, inplace=True)\n",
    "show_itable(price_by_geode_rarity, order=[1, 'asc'], column_formats={'Median Price (GHST)': '{:,.2f}'})"
   ]
  },
  {
   "cell_type": "markdown",
   "metadata": {},
   "source": [
    "### Essence Price Over Time"
   ]
  },
  {
   "cell_type": "code",
   "execution_count": 6,
   "metadata": {},
   "outputs": [
    {
     "data": {
      "text/plain": [
       "(<Figure size 864x432 with 1 Axes>,\n",
       " <AxesSubplot:title={'center':'Median Price (GHST)'}>)"
      ]
     },
     "execution_count": 6,
     "metadata": {},
     "output_type": "execute_result"
    },
    {
     "data": {
      "image/png": "[encoded data removed]",
      "text/plain": [
       "<Figure size 864x432 with 1 Axes>"
      ]
     },
     "metadata": {
      "needs_background": "light"
     },
     "output_type": "display_data"
    }
   ],
   "source": [
    "essence_price_by_month = get_median_price_by_column('yearMonthPurchased', forge_purchases_types_df[forge_purchases_types_df['category_name'] == 'essence']).reset_index()\n",
    "fig, ax = get_bar_charts(essence_price_by_month, 'yearMonthPurchased', ['Median Price (GHST)'], [GHST_COLOR], annotate_format='{:,.4f}')"
   ]
  }
 ],
 "metadata": {
  "kernelspec": {
   "display_name": "aavegotchi-data-science",
   "language": "python",
   "name": "python3"
  },
  "language_info": {
   "codemirror_mode": {
    "name": "ipython",
    "version": 3
   },
   "file_extension": ".py",
   "mimetype": "text/x-python",
   "name": "python",
   "nbconvert_exporter": "python",
   "pygments_lexer": "ipython3",
   "version": "3.9.13"
  },
  "orig_nbformat": 4
 },
 "nbformat": 4,
 "nbformat_minor": 2
}
