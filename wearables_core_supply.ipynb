{
 "cells": [
  {
   "cell_type": "code",
   "execution_count": 1,
   "metadata": {},
   "outputs": [],
   "source": [
    "from shared import *\n",
    "from utils.cores import get_core_supply_df\n",
    "core_supply_df = get_core_supply_df()\n",
    "CORE_FRAMEWORK_RARITY_RATIOS = { 'common': 0.4721, 'uncommon': 0.2784, 'rare': 0.1583, 'legendary': 0.0675, 'mythical': 0.0224, 'godlike': 0.0013 }\n",
    "CORE_FRAMEWORK_SLOT_RATIOS = { 'Hands': 0.3, 'Head': 0.2250, 'Body': 0.2250, 'Eyes': 0.1, 'Face': 0.1, 'Pet': 0.05 }"
   ]
  },
  {
   "attachments": {},
   "cell_type": "markdown",
   "metadata": {},
   "source": [
    "## Wearable Cores Supply"
   ]
  },
  {
   "attachments": {},
   "cell_type": "markdown",
   "metadata": {},
   "source": [
    "### Core Supply by Rarity"
   ]
  },
  {
   "cell_type": "code",
   "execution_count": 2,
   "metadata": {},
   "outputs": [
    {
     "data": {
      "text/html": [
       "<table id=\"aaaae3fc-8cd2-4498-a954-61cdf0b63172\" class=\"display\"style=\"max-width:100%\"><thead>\n",
       "    <tr style=\"text-align: right;\">\n",
       "      <th></th>\n",
       "      <th>Supply</th>\n",
       "      <th>Proportion of Supply</th>\n",
       "      <th>Core Framework</th>\n",
       "    </tr>\n",
       "    <tr>\n",
       "      <th>Rarity</th>\n",
       "      <th></th>\n",
       "      <th></th>\n",
       "      <th></th>\n",
       "    </tr>\n",
       "  </thead><tbody><tr><td>Loading... (need <a href=https://mwouts.github.io/itables/troubleshooting.html>help</a>?)</td></tr></tbody></table>\n",
       "<style>\n",
       "table td {\n",
       "    text-overflow: ellipsis;\n",
       "    overflow: hidden;\n",
       "}\n",
       "\n",
       "table th {\n",
       "    text-overflow: ellipsis;\n",
       "    overflow: hidden;\n",
       "}\n",
       "\n",
       "thead input {\n",
       "    width: 100%;\n",
       "    padding: 3px;\n",
       "    box-sizing: border-box;\n",
       "}\n",
       "\n",
       "tfoot input {\n",
       "    width: 100%;\n",
       "    padding: 3px;\n",
       "    box-sizing: border-box;\n",
       "}\n",
       "\n",
       "</style>\n",
       "<link rel=\"stylesheet\" type=\"text/css\" href=\"https://cdn.datatables.net/1.12.1/css/jquery.dataTables.min.css\">\n",
       "<script type=\"module\">\n",
       "    // Import jquery and DataTable\n",
       "    import 'https://code.jquery.com/jquery-3.6.0.min.js';\n",
       "    import dt from 'https://cdn.datatables.net/1.12.1/js/jquery.dataTables.mjs';\n",
       "    dt($);\n",
       "\n",
       "    // Define the table data\n",
       "    const data = [[\"godlike\", \"118\", \"0.139 %\", \"0.130 %\"], [\"mythical\", \"1,850\", \"2.182 %\", \"2.240 %\"], [\"legendary\", \"5,675\", \"6.694 %\", \"6.750 %\"], [\"rare\", \"13,429\", \"15.841 %\", \"15.830 %\"], [\"uncommon\", \"23,500\", \"27.721 %\", \"27.840 %\"], [\"common\", \"40,200\", \"47.421 %\", \"47.210 %\"]];\n",
       "\n",
       "    // Define the dt_args\n",
       "    let dt_args = {\"order\": [[1, \"desc\"]], \"paging\": false, \"dom\": \"tr\", \"columnDefs\": [{\"className\": \"dt-left\", \"targets\": [0]}]};\n",
       "    dt_args[\"data\"] = data;\n",
       "\n",
       "    $(document).ready(function () {\n",
       "        \n",
       "        $('#aaaae3fc-8cd2-4498-a954-61cdf0b63172').DataTable(dt_args);\n",
       "    });\n",
       "</script>\n"
      ],
      "text/plain": [
       "<IPython.core.display.HTML object>"
      ]
     },
     "metadata": {},
     "output_type": "display_data"
    }
   ],
   "source": [
    "supply_by_rarity_df = core_supply_df.groupby('Rarity').agg({'Supply': 'sum'}).reset_index().sort_values('Supply')\n",
    "supply_by_rarity_df['Proportion of Supply'] = supply_by_rarity_df.apply(lambda row: row['Supply'] / supply_by_rarity_df['Supply'].sum() * 100, axis=1)\n",
    "supply_by_rarity_df['Core Framework'] = supply_by_rarity_df.apply(lambda row: CORE_FRAMEWORK_RARITY_RATIOS[row['Rarity']] * 100, axis=1)\n",
    "show_itable(supply_by_rarity_df.set_index('Rarity'), order=[[1, 'desc']], column_formats={'Proportion of Supply': '{:,.3f} %', 'Core Framework': '{:,.3f} %'}) "
   ]
  },
  {
   "attachments": {},
   "cell_type": "markdown",
   "metadata": {},
   "source": [
    "### Core Supply by Slot & Rarity"
   ]
  },
  {
   "cell_type": "code",
   "execution_count": 3,
   "metadata": {},
   "outputs": [
    {
     "data": {
      "text/html": [
       "<table id=\"7e0617f1-e731-4976-931d-58c4aff0459f\" class=\"display\"style=\"max-width:100%\"><thead>\n",
       "    <tr style=\"text-align: right;\">\n",
       "      \n",
       "      <th>Rarity</th>\n",
       "      <th>Slot</th>\n",
       "      <th>Supply</th>\n",
       "    </tr>\n",
       "  </thead><tbody><tr><td>Loading... (need <a href=https://mwouts.github.io/itables/troubleshooting.html>help</a>?)</td></tr></tbody></table>\n",
       "<style>\n",
       "table td {\n",
       "    text-overflow: ellipsis;\n",
       "    overflow: hidden;\n",
       "}\n",
       "\n",
       "table th {\n",
       "    text-overflow: ellipsis;\n",
       "    overflow: hidden;\n",
       "}\n",
       "\n",
       "thead input {\n",
       "    width: 100%;\n",
       "    padding: 3px;\n",
       "    box-sizing: border-box;\n",
       "}\n",
       "\n",
       "tfoot input {\n",
       "    width: 100%;\n",
       "    padding: 3px;\n",
       "    box-sizing: border-box;\n",
       "}\n",
       "\n",
       "</style>\n",
       "<link rel=\"stylesheet\" type=\"text/css\" href=\"https://cdn.datatables.net/1.12.1/css/jquery.dataTables.min.css\">\n",
       "<script type=\"module\">\n",
       "    // Import jquery and DataTable\n",
       "    import 'https://code.jquery.com/jquery-3.6.0.min.js';\n",
       "    import dt from 'https://cdn.datatables.net/1.12.1/js/jquery.dataTables.mjs';\n",
       "    dt($);\n",
       "\n",
       "    // Define the table data\n",
       "    const data = [[\"common\", \"Body\", \"7,600\"], [\"godlike\", \"Body\", \"26\"], [\"rare\", \"Body\", \"3,108\"], [\"mythical\", \"Body\", \"420\"], [\"legendary\", \"Body\", \"1,725\"], [\"uncommon\", \"Body\", \"7,500\"], [\"common\", \"Eyes\", \"3,300\"], [\"uncommon\", \"Eyes\", \"1,250\"], [\"legendary\", \"Eyes\", \"250\"], [\"godlike\", \"Eyes\", \"16\"], [\"rare\", \"Eyes\", \"1,558\"], [\"mythical\", \"Eyes\", \"260\"], [\"rare\", \"Face\", \"858\"], [\"uncommon\", \"Face\", \"1,250\"], [\"legendary\", \"Face\", \"250\"], [\"godlike\", \"Face\", \"7\"], [\"mythical\", \"Face\", \"150\"], [\"common\", \"Face\", \"4,000\"], [\"godlike\", \"Hands\", \"22\"], [\"uncommon\", \"Hands\", \"6,000\"], [\"rare\", \"Hands\", \"3,858\"], [\"legendary\", \"Hands\", \"1,550\"], [\"mythical\", \"Hands\", \"540\"], [\"common\", \"Hands\", \"13,000\"], [\"godlike\", \"Head\", \"31\"], [\"mythical\", \"Head\", \"330\"], [\"uncommon\", \"Head\", \"6,000\"], [\"rare\", \"Head\", \"3,497\"], [\"common\", \"Head\", \"11,000\"], [\"legendary\", \"Head\", \"1,700\"], [\"common\", \"Pet\", \"1,300\"], [\"rare\", \"Pet\", \"550\"], [\"godlike\", \"Pet\", \"16\"], [\"legendary\", \"Pet\", \"200\"], [\"uncommon\", \"Pet\", \"1,500\"], [\"mythical\", \"Pet\", \"150\"]];\n",
       "\n",
       "    // Define the dt_args\n",
       "    let dt_args = {\"order\": [[2, \"desc\"]], \"paging\": true, \"dom\": \"lftipr\", \"columnDefs\": [{\"className\": \"dt-left\", \"targets\": [0]}]};\n",
       "    dt_args[\"data\"] = data;\n",
       "\n",
       "    $(document).ready(function () {\n",
       "        \n",
       "        $('#7e0617f1-e731-4976-931d-58c4aff0459f').DataTable(dt_args);\n",
       "    });\n",
       "</script>\n"
      ],
      "text/plain": [
       "<IPython.core.display.HTML object>"
      ]
     },
     "metadata": {},
     "output_type": "display_data"
    }
   ],
   "source": [
    "show_itable_long(core_supply_df[['Rarity', 'Slot', 'Supply']], order=[[2, 'desc']])"
   ]
  },
  {
   "attachments": {},
   "cell_type": "markdown",
   "metadata": {},
   "source": [
    "### Slot Proportion of Rarity"
   ]
  },
  {
   "cell_type": "code",
   "execution_count": 4,
   "metadata": {},
   "outputs": [
    {
     "ename": "NameError",
     "evalue": "name 'supply_column' is not defined",
     "output_type": "error",
     "traceback": [
      "\u001b[0;31m---------------------------------------------------------------------------\u001b[0m",
      "\u001b[0;31mNameError\u001b[0m                                 Traceback (most recent call last)",
      "\u001b[1;32m/Users/michael/Documents/git/aavegotchi-wearables-report/wearables_core_supply.ipynb Cell 8\u001b[0m in \u001b[0;36m<cell line: 6>\u001b[0;34m()\u001b[0m\n\u001b[1;32m      <a href='vscode-notebook-cell:/Users/michael/Documents/git/aavegotchi-wearables-report/wearables_core_supply.ipynb#X15sZmlsZQ%3D%3D?line=2'>3</a>\u001b[0m supply_by_slot_rarity_df \u001b[39m=\u001b[39m core_supply_df\u001b[39m.\u001b[39mcopy()\n\u001b[1;32m      <a href='vscode-notebook-cell:/Users/michael/Documents/git/aavegotchi-wearables-report/wearables_core_supply.ipynb#X15sZmlsZQ%3D%3D?line=3'>4</a>\u001b[0m proportion_of_rarity_column \u001b[39m=\u001b[39m \u001b[39m'\u001b[39m\u001b[39mProportion of Rarity\u001b[39m\u001b[39m'\u001b[39m\n\u001b[0;32m----> <a href='vscode-notebook-cell:/Users/michael/Documents/git/aavegotchi-wearables-report/wearables_core_supply.ipynb#X15sZmlsZQ%3D%3D?line=5'>6</a>\u001b[0m supply_by_slot_rarity_df[proportion_of_rarity_column] \u001b[39m=\u001b[39m supply_by_slot_rarity_df\u001b[39m.\u001b[39;49mapply(\u001b[39mlambda\u001b[39;49;00m row: row[supply_column] \u001b[39m/\u001b[39;49m supply_by_rarity_df[supply_by_rarity_df[rarity_column] \u001b[39m==\u001b[39;49m row[rarity_column]][supply_column]\u001b[39m.\u001b[39;49msum() \u001b[39m*\u001b[39;49m \u001b[39m100\u001b[39;49m, axis\u001b[39m=\u001b[39;49m\u001b[39m1\u001b[39;49m)\n\u001b[1;32m      <a href='vscode-notebook-cell:/Users/michael/Documents/git/aavegotchi-wearables-report/wearables_core_supply.ipynb#X15sZmlsZQ%3D%3D?line=7'>8</a>\u001b[0m supply_column \u001b[39m=\u001b[39m \u001b[39m'\u001b[39m\u001b[39mSupply\u001b[39m\u001b[39m'\u001b[39m\n\u001b[1;32m      <a href='vscode-notebook-cell:/Users/michael/Documents/git/aavegotchi-wearables-report/wearables_core_supply.ipynb#X15sZmlsZQ%3D%3D?line=8'>9</a>\u001b[0m rarity_column \u001b[39m=\u001b[39m \u001b[39m'\u001b[39m\u001b[39mRarity\u001b[39m\u001b[39m'\u001b[39m\n",
      "File \u001b[0;32m~/opt/anaconda3/envs/aavegotchi-data-science/lib/python3.9/site-packages/pandas/core/frame.py:8845\u001b[0m, in \u001b[0;36mDataFrame.apply\u001b[0;34m(self, func, axis, raw, result_type, args, **kwargs)\u001b[0m\n\u001b[1;32m   8834\u001b[0m \u001b[39mfrom\u001b[39;00m \u001b[39mpandas\u001b[39;00m\u001b[39m.\u001b[39;00m\u001b[39mcore\u001b[39;00m\u001b[39m.\u001b[39;00m\u001b[39mapply\u001b[39;00m \u001b[39mimport\u001b[39;00m frame_apply\n\u001b[1;32m   8836\u001b[0m op \u001b[39m=\u001b[39m frame_apply(\n\u001b[1;32m   8837\u001b[0m     \u001b[39mself\u001b[39m,\n\u001b[1;32m   8838\u001b[0m     func\u001b[39m=\u001b[39mfunc,\n\u001b[0;32m   (...)\u001b[0m\n\u001b[1;32m   8843\u001b[0m     kwargs\u001b[39m=\u001b[39mkwargs,\n\u001b[1;32m   8844\u001b[0m )\n\u001b[0;32m-> 8845\u001b[0m \u001b[39mreturn\u001b[39;00m op\u001b[39m.\u001b[39;49mapply()\u001b[39m.\u001b[39m__finalize__(\u001b[39mself\u001b[39m, method\u001b[39m=\u001b[39m\u001b[39m\"\u001b[39m\u001b[39mapply\u001b[39m\u001b[39m\"\u001b[39m)\n",
      "File \u001b[0;32m~/opt/anaconda3/envs/aavegotchi-data-science/lib/python3.9/site-packages/pandas/core/apply.py:733\u001b[0m, in \u001b[0;36mFrameApply.apply\u001b[0;34m(self)\u001b[0m\n\u001b[1;32m    730\u001b[0m \u001b[39melif\u001b[39;00m \u001b[39mself\u001b[39m\u001b[39m.\u001b[39mraw:\n\u001b[1;32m    731\u001b[0m     \u001b[39mreturn\u001b[39;00m \u001b[39mself\u001b[39m\u001b[39m.\u001b[39mapply_raw()\n\u001b[0;32m--> 733\u001b[0m \u001b[39mreturn\u001b[39;00m \u001b[39mself\u001b[39;49m\u001b[39m.\u001b[39;49mapply_standard()\n",
      "File \u001b[0;32m~/opt/anaconda3/envs/aavegotchi-data-science/lib/python3.9/site-packages/pandas/core/apply.py:857\u001b[0m, in \u001b[0;36mFrameApply.apply_standard\u001b[0;34m(self)\u001b[0m\n\u001b[1;32m    856\u001b[0m \u001b[39mdef\u001b[39;00m \u001b[39mapply_standard\u001b[39m(\u001b[39mself\u001b[39m):\n\u001b[0;32m--> 857\u001b[0m     results, res_index \u001b[39m=\u001b[39m \u001b[39mself\u001b[39;49m\u001b[39m.\u001b[39;49mapply_series_generator()\n\u001b[1;32m    859\u001b[0m     \u001b[39m# wrap results\u001b[39;00m\n\u001b[1;32m    860\u001b[0m     \u001b[39mreturn\u001b[39;00m \u001b[39mself\u001b[39m\u001b[39m.\u001b[39mwrap_results(results, res_index)\n",
      "File \u001b[0;32m~/opt/anaconda3/envs/aavegotchi-data-science/lib/python3.9/site-packages/pandas/core/apply.py:873\u001b[0m, in \u001b[0;36mFrameApply.apply_series_generator\u001b[0;34m(self)\u001b[0m\n\u001b[1;32m    870\u001b[0m \u001b[39mwith\u001b[39;00m option_context(\u001b[39m\"\u001b[39m\u001b[39mmode.chained_assignment\u001b[39m\u001b[39m\"\u001b[39m, \u001b[39mNone\u001b[39;00m):\n\u001b[1;32m    871\u001b[0m     \u001b[39mfor\u001b[39;00m i, v \u001b[39min\u001b[39;00m \u001b[39menumerate\u001b[39m(series_gen):\n\u001b[1;32m    872\u001b[0m         \u001b[39m# ignore SettingWithCopy here in case the user mutates\u001b[39;00m\n\u001b[0;32m--> 873\u001b[0m         results[i] \u001b[39m=\u001b[39m \u001b[39mself\u001b[39;49m\u001b[39m.\u001b[39;49mf(v)\n\u001b[1;32m    874\u001b[0m         \u001b[39mif\u001b[39;00m \u001b[39misinstance\u001b[39m(results[i], ABCSeries):\n\u001b[1;32m    875\u001b[0m             \u001b[39m# If we have a view on v, we need to make a copy because\u001b[39;00m\n\u001b[1;32m    876\u001b[0m             \u001b[39m#  series_generator will swap out the underlying data\u001b[39;00m\n\u001b[1;32m    877\u001b[0m             results[i] \u001b[39m=\u001b[39m results[i]\u001b[39m.\u001b[39mcopy(deep\u001b[39m=\u001b[39m\u001b[39mFalse\u001b[39;00m)\n",
      "\u001b[1;32m/Users/michael/Documents/git/aavegotchi-wearables-report/wearables_core_supply.ipynb Cell 8\u001b[0m in \u001b[0;36m<lambda>\u001b[0;34m(row)\u001b[0m\n\u001b[1;32m      <a href='vscode-notebook-cell:/Users/michael/Documents/git/aavegotchi-wearables-report/wearables_core_supply.ipynb#X15sZmlsZQ%3D%3D?line=2'>3</a>\u001b[0m supply_by_slot_rarity_df \u001b[39m=\u001b[39m core_supply_df\u001b[39m.\u001b[39mcopy()\n\u001b[1;32m      <a href='vscode-notebook-cell:/Users/michael/Documents/git/aavegotchi-wearables-report/wearables_core_supply.ipynb#X15sZmlsZQ%3D%3D?line=3'>4</a>\u001b[0m proportion_of_rarity_column \u001b[39m=\u001b[39m \u001b[39m'\u001b[39m\u001b[39mProportion of Rarity\u001b[39m\u001b[39m'\u001b[39m\n\u001b[0;32m----> <a href='vscode-notebook-cell:/Users/michael/Documents/git/aavegotchi-wearables-report/wearables_core_supply.ipynb#X15sZmlsZQ%3D%3D?line=5'>6</a>\u001b[0m supply_by_slot_rarity_df[proportion_of_rarity_column] \u001b[39m=\u001b[39m supply_by_slot_rarity_df\u001b[39m.\u001b[39mapply(\u001b[39mlambda\u001b[39;00m row: row[supply_column] \u001b[39m/\u001b[39m supply_by_rarity_df[supply_by_rarity_df[rarity_column] \u001b[39m==\u001b[39m row[rarity_column]][supply_column]\u001b[39m.\u001b[39msum() \u001b[39m*\u001b[39m \u001b[39m100\u001b[39m, axis\u001b[39m=\u001b[39m\u001b[39m1\u001b[39m)\n\u001b[1;32m      <a href='vscode-notebook-cell:/Users/michael/Documents/git/aavegotchi-wearables-report/wearables_core_supply.ipynb#X15sZmlsZQ%3D%3D?line=7'>8</a>\u001b[0m supply_column \u001b[39m=\u001b[39m \u001b[39m'\u001b[39m\u001b[39mSupply\u001b[39m\u001b[39m'\u001b[39m\n\u001b[1;32m      <a href='vscode-notebook-cell:/Users/michael/Documents/git/aavegotchi-wearables-report/wearables_core_supply.ipynb#X15sZmlsZQ%3D%3D?line=8'>9</a>\u001b[0m rarity_column \u001b[39m=\u001b[39m \u001b[39m'\u001b[39m\u001b[39mRarity\u001b[39m\u001b[39m'\u001b[39m\n",
      "\u001b[0;31mNameError\u001b[0m: name 'supply_column' is not defined"
     ]
    }
   ],
   "source": [
    "%%capture --no-display\n",
    "# hide the warning about bar color and edge color\n",
    "\n",
    "supply_by_slot_rarity_df = core_supply_df.copy()\n",
    "\n",
    "proportion_of_rarity_column = 'Proportion of Rarity'\n",
    "supply_column = 'Supply'\n",
    "rarity_column = 'Rarity'\n",
    "slot_column = 'Slot'\n",
    "\n",
    "supply_by_slot_rarity_df[proportion_of_rarity_column] = supply_by_slot_rarity_df.apply(lambda row: row[supply_column] / supply_by_rarity_df[supply_by_rarity_df[rarity_column] == row[rarity_column]][supply_column].sum() * 100, axis=1)\n",
    "\n",
    "core_framework_slot_ratios_df = (pd.DataFrame.from_dict(CORE_FRAMEWORK_SLOT_RATIOS, orient='index', columns=[proportion_of_rarity_column]) * 100).reset_index().rename(columns={'index': 'Slot'})\n",
    "core_framework_slot_ratios_df['Rarity'] = 'core framework'\n",
    "slot_proportion_chart_df = pd.concat([supply_by_slot_rarity_df, core_framework_slot_ratios_df]).fillna(0)\n",
    "rarity_color_mappings['core framework'] = '#CCCCCC'\n",
    "\n",
    "proportion_of_rarity_chart = GroupedBarChart(\n",
    "    slot_proportion_chart_df.sort_values(supply_column, ascending=False),\n",
    "    x_column_name=slot_column,\n",
    "    y_column_name=proportion_of_rarity_column,\n",
    "    series_column_name=rarity_column,\n",
    "    series_colors=rarity_color_mappings)\n",
    "\n",
    "proportion_of_rarity_chart.annotate_bars(annotation_format='{:.1f} %', rotation=-90)\n",
    "proportion_of_rarity_chart.show()"
   ]
  }
 ],
 "metadata": {
  "kernelspec": {
   "display_name": "Python 3.9.13 ('aavegotchi-data-science')",
   "language": "python",
   "name": "python3"
  },
  "language_info": {
   "codemirror_mode": {
    "name": "ipython",
    "version": 3
   },
   "file_extension": ".py",
   "mimetype": "text/x-python",
   "name": "python",
   "nbconvert_exporter": "python",
   "pygments_lexer": "ipython3",
   "version": "3.9.13"
  },
  "vscode": {
   "interpreter": {
    "hash": "ae5a5ab5ac49724ba5fae9eff3080cbf7ba5c647491631efe9a847132401b70c"
   }
  }
 },
 "nbformat": 4,
 "nbformat_minor": 2
}
