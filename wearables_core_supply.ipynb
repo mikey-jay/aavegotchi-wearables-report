{
 "cells": [
  {
   "cell_type": "code",
   "execution_count": 1,
   "metadata": {},
   "outputs": [],
   "source": [
    "from shared import *\n",
    "from utils.cores import get_core_supply_df\n",
    "core_supply_df = get_core_supply_df()\n",
    "CORE_FRAMEWORK_RARITY_RATIOS = { 'common': 0.4721, 'uncommon': 0.2784, 'rare': 0.1583, 'legendary': 0.0675, 'mythical': 0.0224, 'godlike': 0.0013 }\n",
    "CORE_FRAMEWORK_SLOT_RATIOS = { 'Hands': 0.3, 'Head': 0.2250, 'Body': 0.2250, 'Eyes': 0.1, 'Face': 0.1, 'Pet': 0.05 }"
   ]
  },
  {
   "attachments": {},
   "cell_type": "markdown",
   "metadata": {},
   "source": [
    "## Wearable Cores Supply"
   ]
  },
  {
   "attachments": {},
   "cell_type": "markdown",
   "metadata": {},
   "source": [
    "### Core Supply by Rarity"
   ]
  },
  {
   "cell_type": "code",
   "execution_count": 2,
   "metadata": {},
   "outputs": [
    {
     "data": {
      "text/html": [
       "<table id=\"6f4280a2-f430-4328-af6d-5a69219758c6\" class=\"display\"style=\"max-width:100%\"><thead>\n",
       "    <tr style=\"text-align: right;\">\n",
       "      <th></th>\n",
       "      <th>Supply</th>\n",
       "      <th>Proportion of Supply</th>\n",
       "      <th>Core Framework</th>\n",
       "    </tr>\n",
       "    <tr>\n",
       "      <th>Rarity</th>\n",
       "      <th></th>\n",
       "      <th></th>\n",
       "      <th></th>\n",
       "    </tr>\n",
       "  </thead><tbody><tr><td>Loading... (need <a href=https://mwouts.github.io/itables/troubleshooting.html>help</a>?)</td></tr></tbody></table>\n",
       "<style>\n",
       "table td {\n",
       "    text-overflow: ellipsis;\n",
       "    overflow: hidden;\n",
       "}\n",
       "\n",
       "table th {\n",
       "    text-overflow: ellipsis;\n",
       "    overflow: hidden;\n",
       "}\n",
       "\n",
       "thead input {\n",
       "    width: 100%;\n",
       "    padding: 3px;\n",
       "    box-sizing: border-box;\n",
       "}\n",
       "\n",
       "tfoot input {\n",
       "    width: 100%;\n",
       "    padding: 3px;\n",
       "    box-sizing: border-box;\n",
       "}\n",
       "\n",
       "</style>\n",
       "<link rel=\"stylesheet\" type=\"text/css\" href=\"https://cdn.datatables.net/1.12.1/css/jquery.dataTables.min.css\">\n",
       "<script type=\"module\">\n",
       "    // Import jquery and DataTable\n",
       "    import 'https://code.jquery.com/jquery-3.6.0.min.js';\n",
       "    import dt from 'https://cdn.datatables.net/1.12.1/js/jquery.dataTables.mjs';\n",
       "    dt($);\n",
       "\n",
       "    // Define the table data\n",
       "    const data = [[\"godlike\", \"118\", \"0.139 %\", \"0.130 %\"], [\"mythical\", \"1,850\", \"2.182 %\", \"2.240 %\"], [\"legendary\", \"5,675\", \"6.694 %\", \"6.750 %\"], [\"rare\", \"13,429\", \"15.841 %\", \"15.830 %\"], [\"uncommon\", \"23,500\", \"27.721 %\", \"27.840 %\"], [\"common\", \"40,200\", \"47.421 %\", \"47.210 %\"]];\n",
       "\n",
       "    // Define the dt_args\n",
       "    let dt_args = {\"order\": [[1, \"desc\"]], \"paging\": false, \"dom\": \"tr\", \"columnDefs\": [{\"className\": \"dt-left\", \"targets\": [0]}]};\n",
       "    dt_args[\"data\"] = data;\n",
       "\n",
       "    $(document).ready(function () {\n",
       "        \n",
       "        $('#6f4280a2-f430-4328-af6d-5a69219758c6').DataTable(dt_args);\n",
       "    });\n",
       "</script>\n"
      ],
      "text/plain": [
       "<IPython.core.display.HTML object>"
      ]
     },
     "metadata": {},
     "output_type": "display_data"
    }
   ],
   "source": [
    "supply_by_rarity_df = core_supply_df.groupby('Rarity').agg({'Supply': 'sum'}).reset_index().sort_values('Supply')\n",
    "supply_by_rarity_df['Proportion of Supply'] = supply_by_rarity_df.apply(lambda row: row['Supply'] / supply_by_rarity_df['Supply'].sum() * 100, axis=1)\n",
    "supply_by_rarity_df['Core Framework'] = supply_by_rarity_df.apply(lambda row: CORE_FRAMEWORK_RARITY_RATIOS[row['Rarity']] * 100, axis=1)\n",
    "show_itable(supply_by_rarity_df.set_index('Rarity'), order=[[1, 'desc']], column_formats={'Proportion of Supply': '{:,.3f} %', 'Core Framework': '{:,.3f} %'}) "
   ]
  },
  {
   "attachments": {},
   "cell_type": "markdown",
   "metadata": {},
   "source": [
    "### Core Supply by Slot & Rarity"
   ]
  },
  {
   "cell_type": "code",
   "execution_count": 3,
   "metadata": {},
   "outputs": [
    {
     "data": {
      "text/html": [
       "<table id=\"b441d568-b05a-4541-9708-64d880b59bbf\" class=\"display\"style=\"max-width:100%\"><thead>\n",
       "    <tr style=\"text-align: right;\">\n",
       "      \n",
       "      <th>Rarity</th>\n",
       "      <th>Slot</th>\n",
       "      <th>Supply</th>\n",
       "    </tr>\n",
       "  </thead><tbody><tr><td>Loading... (need <a href=https://mwouts.github.io/itables/troubleshooting.html>help</a>?)</td></tr></tbody></table>\n",
       "<style>\n",
       "table td {\n",
       "    text-overflow: ellipsis;\n",
       "    overflow: hidden;\n",
       "}\n",
       "\n",
       "table th {\n",
       "    text-overflow: ellipsis;\n",
       "    overflow: hidden;\n",
       "}\n",
       "\n",
       "thead input {\n",
       "    width: 100%;\n",
       "    padding: 3px;\n",
       "    box-sizing: border-box;\n",
       "}\n",
       "\n",
       "tfoot input {\n",
       "    width: 100%;\n",
       "    padding: 3px;\n",
       "    box-sizing: border-box;\n",
       "}\n",
       "\n",
       "</style>\n",
       "<link rel=\"stylesheet\" type=\"text/css\" href=\"https://cdn.datatables.net/1.12.1/css/jquery.dataTables.min.css\">\n",
       "<script type=\"module\">\n",
       "    // Import jquery and DataTable\n",
       "    import 'https://code.jquery.com/jquery-3.6.0.min.js';\n",
       "    import dt from 'https://cdn.datatables.net/1.12.1/js/jquery.dataTables.mjs';\n",
       "    dt($);\n",
       "\n",
       "    // Define the table data\n",
       "    const data = [[\"common\", \"Body\", \"7,600\"], [\"godlike\", \"Body\", \"26\"], [\"rare\", \"Body\", \"3,108\"], [\"mythical\", \"Body\", \"420\"], [\"legendary\", \"Body\", \"1,725\"], [\"uncommon\", \"Body\", \"7,500\"], [\"common\", \"Eyes\", \"3,300\"], [\"uncommon\", \"Eyes\", \"1,250\"], [\"legendary\", \"Eyes\", \"250\"], [\"godlike\", \"Eyes\", \"16\"], [\"rare\", \"Eyes\", \"1,558\"], [\"mythical\", \"Eyes\", \"260\"], [\"rare\", \"Face\", \"858\"], [\"uncommon\", \"Face\", \"1,250\"], [\"legendary\", \"Face\", \"250\"], [\"godlike\", \"Face\", \"7\"], [\"mythical\", \"Face\", \"150\"], [\"common\", \"Face\", \"4,000\"], [\"godlike\", \"Hands\", \"22\"], [\"uncommon\", \"Hands\", \"6,000\"], [\"rare\", \"Hands\", \"3,858\"], [\"legendary\", \"Hands\", \"1,550\"], [\"mythical\", \"Hands\", \"540\"], [\"common\", \"Hands\", \"13,000\"], [\"godlike\", \"Head\", \"31\"], [\"mythical\", \"Head\", \"330\"], [\"uncommon\", \"Head\", \"6,000\"], [\"rare\", \"Head\", \"3,497\"], [\"common\", \"Head\", \"11,000\"], [\"legendary\", \"Head\", \"1,700\"], [\"common\", \"Pet\", \"1,300\"], [\"rare\", \"Pet\", \"550\"], [\"godlike\", \"Pet\", \"16\"], [\"legendary\", \"Pet\", \"200\"], [\"uncommon\", \"Pet\", \"1,500\"], [\"mythical\", \"Pet\", \"150\"]];\n",
       "\n",
       "    // Define the dt_args\n",
       "    let dt_args = {\"order\": [[2, \"desc\"]], \"paging\": true, \"dom\": \"lftipr\", \"columnDefs\": [{\"className\": \"dt-left\", \"targets\": [0]}]};\n",
       "    dt_args[\"data\"] = data;\n",
       "\n",
       "    $(document).ready(function () {\n",
       "        \n",
       "        $('#b441d568-b05a-4541-9708-64d880b59bbf').DataTable(dt_args);\n",
       "    });\n",
       "</script>\n"
      ],
      "text/plain": [
       "<IPython.core.display.HTML object>"
      ]
     },
     "metadata": {},
     "output_type": "display_data"
    }
   ],
   "source": [
    "show_itable_long(core_supply_df[['Rarity', 'Slot', 'Supply']], order=[[2, 'desc']])"
   ]
  },
  {
   "attachments": {},
   "cell_type": "markdown",
   "metadata": {},
   "source": [
    "### Slot Proportion of Rarity"
   ]
  },
  {
   "cell_type": "code",
   "execution_count": 4,
   "metadata": {},
   "outputs": [
    {
     "data": {
      "image/png": "[encoded data removed]",
      "text/plain": [
       "<Figure size 864x432 with 1 Axes>"
      ]
     },
     "metadata": {
      "needs_background": "light"
     },
     "output_type": "display_data"
    }
   ],
   "source": [
    "%%capture --no-display\n",
    "# hide the warning about bar color and edge color\n",
    "\n",
    "supply_by_slot_rarity_df = core_supply_df.copy()\n",
    "\n",
    "proportion_of_rarity_column = 'Proportion of Rarity'\n",
    "supply_column = 'Supply'\n",
    "rarity_column = 'Rarity'\n",
    "slot_column = 'Slot'\n",
    "\n",
    "supply_by_slot_rarity_df[proportion_of_rarity_column] = supply_by_slot_rarity_df.apply(lambda row: row[supply_column] / supply_by_rarity_df[supply_by_rarity_df[rarity_column] == row[rarity_column]][supply_column].sum() * 100, axis=1)\n",
    "\n",
    "core_framework_slot_ratios_df = (pd.DataFrame.from_dict(CORE_FRAMEWORK_SLOT_RATIOS, orient='index', columns=[proportion_of_rarity_column]) * 100).reset_index().rename(columns={'index': 'Slot'})\n",
    "core_framework_slot_ratios_df['Rarity'] = 'core framework'\n",
    "slot_proportion_chart_df = pd.concat([supply_by_slot_rarity_df, core_framework_slot_ratios_df]).fillna(0)\n",
    "rarity_color_mappings['core framework'] = '#CCCCCC'\n",
    "\n",
    "proportion_of_rarity_chart = GroupedBarChart(\n",
    "    slot_proportion_chart_df.sort_values(supply_column, ascending=False),\n",
    "    x_column_name=slot_column,\n",
    "    y_column_name=proportion_of_rarity_column,\n",
    "    series_column_name=rarity_column,\n",
    "    series_colors=rarity_color_mappings)\n",
    "\n",
    "proportion_of_rarity_chart.annotate_bars(annotation_format='{:.1f} %', rotation=-90)\n",
    "proportion_of_rarity_chart.show()"
   ]
  }
 ],
 "metadata": {
  "kernelspec": {
   "display_name": "Python 3.9.13 ('aavegotchi-data-science')",
   "language": "python",
   "name": "python3"
  },
  "language_info": {
   "codemirror_mode": {
    "name": "ipython",
    "version": 3
   },
   "file_extension": ".py",
   "mimetype": "text/x-python",
   "name": "python",
   "nbconvert_exporter": "python",
   "pygments_lexer": "ipython3",
   "version": "3.9.13"
  },
  "vscode": {
   "interpreter": {
    "hash": "ae5a5ab5ac49724ba5fae9eff3080cbf7ba5c647491631efe9a847132401b70c"
   }
  }
 },
 "nbformat": 4,
 "nbformat_minor": 2
}
