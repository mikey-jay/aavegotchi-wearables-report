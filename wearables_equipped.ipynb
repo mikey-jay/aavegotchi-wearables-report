{
 "cells": [
  {
   "cell_type": "code",
   "execution_count": 143,
   "metadata": {},
   "outputs": [],
   "source": [
    "from shared import *\n",
    "wearable_types_df = get_wearable_types_df()"
   ]
  },
  {
   "attachments": {},
   "cell_type": "markdown",
   "metadata": {},
   "source": [
    "## Wearables Equipped for Rarity Farming\n",
    "Based on the first rarity farming snapshot of each season."
   ]
  },
  {
   "cell_type": "code",
   "execution_count": 148,
   "metadata": {},
   "outputs": [],
   "source": [
    "wearable_equipped_df = wearable_types_df.copy()\n",
    "wearable_owners_equipped = []\n",
    "i = 1\n",
    "for block in RARITY_FARMING_BLOCKS:\n",
    "    gotchis_wearables_df = get_gotchis_wearables_df(block)\n",
    "    wearable_equipped_df = wearable_equipped_df.join(get_wearable_equipped_df(gotchis_wearables_df, wearable_types_df).rename(columns=lambda c: str(c) + '_rf' + str(i)), how='outer')\n",
    "    wearable_owners_equipped += [[i, gotchis_wearables_df['owner.id'].str.lower().nunique()]]\n",
    "    i += 1\n",
    "wearable_owners_equipped_df = pd.DataFrame(wearable_owners_equipped, columns=['rfSeason', 'uniqueOwnersEquipped']).set_index('rfSeason')"
   ]
  },
  {
   "attachments": {},
   "cell_type": "markdown",
   "metadata": {},
   "source": [
    "### Equipped Rate by Season\n",
    "Share of the total supply of wearables equipped to gotchis"
   ]
  },
  {
   "cell_type": "code",
   "execution_count": 173,
   "metadata": {},
   "outputs": [
    {
     "data": {
      "image/png": "[encoded data removed]",
      "text/plain": [
       "<Figure size 864x432 with 1 Axes>"
      ]
     },
     "metadata": {
      "needs_background": "light"
     },
     "output_type": "display_data"
    }
   ],
   "source": [
    "fig, ax = plt.subplots()\n",
    "ax.set_title(\"% Wearables Equipped at Rarity Farming Snapshot by Season\")\n",
    "fig.set_size_inches(12,6)\n",
    "rf_equipped_columns = []\n",
    "bar_columns = []\n",
    "bar_values = []\n",
    "for i in range(0,len(RARITY_FARMING_BLOCKS)):\n",
    "    equipped_column_name = 'equippedCount_rf' + str(i + 1)\n",
    "    rf_equipped_columns += [equipped_column_name]\n",
    "    rf_season_equipped_total = wearable_equipped_df[wearable_equipped_df[equipped_column_name] > 0][[equipped_column_name, 'maxQuantity']].sum()\n",
    "    rf_season_equipped_total['equippedRate'] = (rf_season_equipped_total[equipped_column_name] / rf_season_equipped_total['maxQuantity'])\n",
    "    bar_columns += ['Season {s}'.format(s=str(i + 1))]\n",
    "    bar_values += [rf_season_equipped_total['equippedRate']]\n",
    "annotate_bars(ax.bar(bar_columns, bar_values, color=DEFAULT_COLOR), ax, format=\"{0:.0%}\")\n",
    "pass"
   ]
  },
  {
   "attachments": {},
   "cell_type": "markdown",
   "metadata": {},
   "source": [
    "### Unique Equippers\n",
    "The number of unique wallets that own at least one gotchi with a wearable equipped"
   ]
  },
  {
   "cell_type": "code",
   "execution_count": 174,
   "metadata": {},
   "outputs": [
    {
     "data": {
      "image/png": "[encoded data removed]",
      "text/plain": [
       "<Figure size 864x432 with 1 Axes>"
      ]
     },
     "metadata": {
      "needs_background": "light"
     },
     "output_type": "display_data"
    }
   ],
   "source": [
    "fig, ax = plt.subplots()\n",
    "ax.set_title(\"Unique Equippers at Rarity Farming Snapshot by Season\")\n",
    "fig.set_size_inches(12,6)\n",
    "annotate_bars(ax.bar(list(map(lambda s: 'Season {s}'.format(s=str(s)), wearable_owners_equipped_df.index.values)), wearable_owners_equipped_df['uniqueOwnersEquipped'], color=DEFAULT_COLOR), ax)\n",
    "pass"
   ]
  },
  {
   "cell_type": "code",
   "execution_count": 175,
   "metadata": {},
   "outputs": [],
   "source": [
    "column_name_mappings = {'name': 'Wearable', 'rarity': 'Rarity', 'slotNames': 'Slot(s)', 'maxQuantity': 'Total Supply', 'id': 'Total Count'}\n",
    "\n",
    "def show_rf_equipped_by(agg_column_name):\n",
    "    for i in range(0,len(RARITY_FARMING_BLOCKS)):\n",
    "        rf_column_name = 'equippedCount_rf' + str(i + 1)\n",
    "        mapped_column_name = 'Equipped RF Szn ' + str(i+1)\n",
    "        def get_equipped_by_column(column_name):\n",
    "            return wearable_equipped_df[wearable_equipped_df[rf_column_name] > 0].pivot_table(index=column_name,values=[rf_column_name, 'maxQuantity'],aggfunc=np.sum,margins=False).reset_index().rename(columns=column_name_mappings)\n",
    "        column_name_mappings[rf_column_name] = mapped_column_name\n",
    "        rf_season_equipped_df = get_equipped_by_column(agg_column_name)\n",
    "        rf_season_equipped_df['Equipped Rate'] = (rf_season_equipped_df[mapped_column_name] / rf_season_equipped_df[column_name_mappings['maxQuantity']]).apply(lambda r: str(round(r * 100)) + '%')\n",
    "        show_itable(rf_season_equipped_df, order=[1,'desc'], title='Season {s} &nbsp;&nbsp;<span style=\"font-size: 75%\">(block #{b})<span>'.format(s=str(i+1), b=RARITY_FARMING_BLOCKS[i]))"
   ]
  },
  {
   "attachments": {},
   "cell_type": "markdown",
   "metadata": {},
   "source": [
    "### Equipped for Rarity Farming by Rarity"
   ]
  },
  {
   "cell_type": "code",
   "execution_count": 177,
   "metadata": {},
   "outputs": [
    {
     "data": {
      "text/html": [
       "<table id=\"aa914453-91c3-4b34-afb6-9d75c004d26c\" class=\"display\"style=\"max-width:100%\"><caption style=\"caption-side: top; text-align: left; font-size: 150%; margin-top: 1em; \">Season 1 &nbsp;&nbsp;<span style=\"font-size: 75%\">(block #14082019)<span></caption><thead>\n",
       "    <tr style=\"text-align: right;\">\n",
       "      \n",
       "      <th>Rarity</th>\n",
       "      <th>Equipped RF Szn 1</th>\n",
       "      <th>Total Supply</th>\n",
       "      <th>Equipped Rate</th>\n",
       "    </tr>\n",
       "  </thead><tbody><tr><td>Loading... (need <a href=https://mwouts.github.io/itables/troubleshooting.html>help</a>?)</td></tr></tbody></table>\n",
       "<style>\n",
       "table td {\n",
       "    text-overflow: ellipsis;\n",
       "    overflow: hidden;\n",
       "}\n",
       "\n",
       "table th {\n",
       "    text-overflow: ellipsis;\n",
       "    overflow: hidden;\n",
       "}\n",
       "\n",
       "thead input {\n",
       "    width: 100%;\n",
       "    padding: 3px;\n",
       "    box-sizing: border-box;\n",
       "}\n",
       "\n",
       "tfoot input {\n",
       "    width: 100%;\n",
       "    padding: 3px;\n",
       "    box-sizing: border-box;\n",
       "}\n",
       "\n",
       "</style>\n",
       "<link rel=\"stylesheet\" type=\"text/css\" href=\"https://cdn.datatables.net/1.12.1/css/jquery.dataTables.min.css\">\n",
       "<script type=\"module\">\n",
       "    // Import jquery and DataTable\n",
       "    import 'https://code.jquery.com/jquery-3.6.0.min.js';\n",
       "    import dt from 'https://cdn.datatables.net/1.12.1/js/jquery.dataTables.mjs';\n",
       "    dt($);\n",
       "\n",
       "    // Define the table data\n",
       "    const data = [[\"common\", \"5,103\", \"24,000\", \"21%\"], [\"godlike\", \"53\", \"70\", \"76%\"], [\"legendary\", \"2,766\", \"4,175\", \"66%\"], [\"mythical\", \"889\", \"1,200\", \"74%\"], [\"rare\", \"3,840\", \"8,329\", \"46%\"], [\"uncommon\", \"4,225\", \"13,500\", \"31%\"]];\n",
       "\n",
       "    // Define the dt_args\n",
       "    let dt_args = {\"order\": [1, \"desc\"], \"paging\": false, \"dom\": \"tr\", \"columnDefs\": [{\"className\": \"dt-left\", \"targets\": [0]}]};\n",
       "    dt_args[\"data\"] = data;\n",
       "\n",
       "    $(document).ready(function () {\n",
       "        \n",
       "        $('#aa914453-91c3-4b34-afb6-9d75c004d26c').DataTable(dt_args);\n",
       "    });\n",
       "</script>\n"
      ],
      "text/plain": [
       "<IPython.core.display.HTML object>"
      ]
     },
     "metadata": {},
     "output_type": "display_data"
    },
    {
     "data": {
      "text/html": [
       "<table id=\"0bb0988b-0196-4276-84f4-99ce3d07859e\" class=\"display\"style=\"max-width:100%\"><caption style=\"caption-side: top; text-align: left; font-size: 150%; margin-top: 1em; \">Season 2 &nbsp;&nbsp;<span style=\"font-size: 75%\">(block #20633780)<span></caption><thead>\n",
       "    <tr style=\"text-align: right;\">\n",
       "      \n",
       "      <th>Rarity</th>\n",
       "      <th>Equipped RF Szn 2</th>\n",
       "      <th>Total Supply</th>\n",
       "      <th>Equipped Rate</th>\n",
       "    </tr>\n",
       "  </thead><tbody><tr><td>Loading... (need <a href=https://mwouts.github.io/itables/troubleshooting.html>help</a>?)</td></tr></tbody></table>\n",
       "<style>\n",
       "table td {\n",
       "    text-overflow: ellipsis;\n",
       "    overflow: hidden;\n",
       "}\n",
       "\n",
       "table th {\n",
       "    text-overflow: ellipsis;\n",
       "    overflow: hidden;\n",
       "}\n",
       "\n",
       "thead input {\n",
       "    width: 100%;\n",
       "    padding: 3px;\n",
       "    box-sizing: border-box;\n",
       "}\n",
       "\n",
       "tfoot input {\n",
       "    width: 100%;\n",
       "    padding: 3px;\n",
       "    box-sizing: border-box;\n",
       "}\n",
       "\n",
       "</style>\n",
       "<link rel=\"stylesheet\" type=\"text/css\" href=\"https://cdn.datatables.net/1.12.1/css/jquery.dataTables.min.css\">\n",
       "<script type=\"module\">\n",
       "    // Import jquery and DataTable\n",
       "    import 'https://code.jquery.com/jquery-3.6.0.min.js';\n",
       "    import dt from 'https://cdn.datatables.net/1.12.1/js/jquery.dataTables.mjs';\n",
       "    dt($);\n",
       "\n",
       "    // Define the table data\n",
       "    const data = [[\"common\", \"10,904\", \"34,000\", \"32%\"], [\"godlike\", \"77\", \"95\", \"81%\"], [\"legendary\", \"4,104\", \"5,175\", \"79%\"], [\"mythical\", \"1,366\", \"1,650\", \"83%\"], [\"rare\", \"7,678\", \"12,079\", \"64%\"], [\"uncommon\", \"10,451\", \"21,000\", \"50%\"]];\n",
       "\n",
       "    // Define the dt_args\n",
       "    let dt_args = {\"order\": [1, \"desc\"], \"paging\": false, \"dom\": \"tr\", \"columnDefs\": [{\"className\": \"dt-left\", \"targets\": [0]}]};\n",
       "    dt_args[\"data\"] = data;\n",
       "\n",
       "    $(document).ready(function () {\n",
       "        \n",
       "        $('#0bb0988b-0196-4276-84f4-99ce3d07859e').DataTable(dt_args);\n",
       "    });\n",
       "</script>\n"
      ],
      "text/plain": [
       "<IPython.core.display.HTML object>"
      ]
     },
     "metadata": {},
     "output_type": "display_data"
    },
    {
     "data": {
      "text/html": [
       "<table id=\"4698cf4e-2718-4409-9595-c9a9322bcafa\" class=\"display\"style=\"max-width:100%\"><caption style=\"caption-side: top; text-align: left; font-size: 150%; margin-top: 1em; \">Season 3 &nbsp;&nbsp;<span style=\"font-size: 75%\">(block #25806269)<span></caption><thead>\n",
       "    <tr style=\"text-align: right;\">\n",
       "      \n",
       "      <th>Rarity</th>\n",
       "      <th>Equipped RF Szn 3</th>\n",
       "      <th>Total Supply</th>\n",
       "      <th>Equipped Rate</th>\n",
       "    </tr>\n",
       "  </thead><tbody><tr><td>Loading... (need <a href=https://mwouts.github.io/itables/troubleshooting.html>help</a>?)</td></tr></tbody></table>\n",
       "<style>\n",
       "table td {\n",
       "    text-overflow: ellipsis;\n",
       "    overflow: hidden;\n",
       "}\n",
       "\n",
       "table th {\n",
       "    text-overflow: ellipsis;\n",
       "    overflow: hidden;\n",
       "}\n",
       "\n",
       "thead input {\n",
       "    width: 100%;\n",
       "    padding: 3px;\n",
       "    box-sizing: border-box;\n",
       "}\n",
       "\n",
       "tfoot input {\n",
       "    width: 100%;\n",
       "    padding: 3px;\n",
       "    box-sizing: border-box;\n",
       "}\n",
       "\n",
       "</style>\n",
       "<link rel=\"stylesheet\" type=\"text/css\" href=\"https://cdn.datatables.net/1.12.1/css/jquery.dataTables.min.css\">\n",
       "<script type=\"module\">\n",
       "    // Import jquery and DataTable\n",
       "    import 'https://code.jquery.com/jquery-3.6.0.min.js';\n",
       "    import dt from 'https://cdn.datatables.net/1.12.1/js/jquery.dataTables.mjs';\n",
       "    dt($);\n",
       "\n",
       "    // Define the table data\n",
       "    const data = [[\"common\", \"13,395\", \"39,000\", \"34%\"], [\"godlike\", \"94\", \"110\", \"85%\"], [\"legendary\", \"4,540\", \"5,575\", \"81%\"], [\"mythical\", \"1,563\", \"1,850\", \"84%\"], [\"rare\", \"8,830\", \"13,079\", \"68%\"], [\"uncommon\", \"12,215\", \"23,000\", \"53%\"]];\n",
       "\n",
       "    // Define the dt_args\n",
       "    let dt_args = {\"order\": [1, \"desc\"], \"paging\": false, \"dom\": \"tr\", \"columnDefs\": [{\"className\": \"dt-left\", \"targets\": [0]}]};\n",
       "    dt_args[\"data\"] = data;\n",
       "\n",
       "    $(document).ready(function () {\n",
       "        \n",
       "        $('#4698cf4e-2718-4409-9595-c9a9322bcafa').DataTable(dt_args);\n",
       "    });\n",
       "</script>\n"
      ],
      "text/plain": [
       "<IPython.core.display.HTML object>"
      ]
     },
     "metadata": {},
     "output_type": "display_data"
    },
    {
     "data": {
      "text/html": [
       "<table id=\"073e1d2a-61d5-45cd-aeb4-7e69d24f8b6c\" class=\"display\"style=\"max-width:100%\"><caption style=\"caption-side: top; text-align: left; font-size: 150%; margin-top: 1em; \">Season 4 &nbsp;&nbsp;<span style=\"font-size: 75%\">(block #31770753)<span></caption><thead>\n",
       "    <tr style=\"text-align: right;\">\n",
       "      \n",
       "      <th>Rarity</th>\n",
       "      <th>Equipped RF Szn 4</th>\n",
       "      <th>Total Supply</th>\n",
       "      <th>Equipped Rate</th>\n",
       "    </tr>\n",
       "  </thead><tbody><tr><td>Loading... (need <a href=https://mwouts.github.io/itables/troubleshooting.html>help</a>?)</td></tr></tbody></table>\n",
       "<style>\n",
       "table td {\n",
       "    text-overflow: ellipsis;\n",
       "    overflow: hidden;\n",
       "}\n",
       "\n",
       "table th {\n",
       "    text-overflow: ellipsis;\n",
       "    overflow: hidden;\n",
       "}\n",
       "\n",
       "thead input {\n",
       "    width: 100%;\n",
       "    padding: 3px;\n",
       "    box-sizing: border-box;\n",
       "}\n",
       "\n",
       "tfoot input {\n",
       "    width: 100%;\n",
       "    padding: 3px;\n",
       "    box-sizing: border-box;\n",
       "}\n",
       "\n",
       "</style>\n",
       "<link rel=\"stylesheet\" type=\"text/css\" href=\"https://cdn.datatables.net/1.12.1/css/jquery.dataTables.min.css\">\n",
       "<script type=\"module\">\n",
       "    // Import jquery and DataTable\n",
       "    import 'https://code.jquery.com/jquery-3.6.0.min.js';\n",
       "    import dt from 'https://cdn.datatables.net/1.12.1/js/jquery.dataTables.mjs';\n",
       "    dt($);\n",
       "\n",
       "    // Define the table data\n",
       "    const data = [[\"common\", \"15,257\", \"39,000\", \"39%\"], [\"godlike\", \"94\", \"110\", \"85%\"], [\"legendary\", \"4,606\", \"5,575\", \"83%\"], [\"mythical\", \"1,580\", \"1,850\", \"85%\"], [\"rare\", \"9,290\", \"13,079\", \"71%\"], [\"uncommon\", \"13,067\", \"23,000\", \"57%\"]];\n",
       "\n",
       "    // Define the dt_args\n",
       "    let dt_args = {\"order\": [1, \"desc\"], \"paging\": false, \"dom\": \"tr\", \"columnDefs\": [{\"className\": \"dt-left\", \"targets\": [0]}]};\n",
       "    dt_args[\"data\"] = data;\n",
       "\n",
       "    $(document).ready(function () {\n",
       "        \n",
       "        $('#073e1d2a-61d5-45cd-aeb4-7e69d24f8b6c').DataTable(dt_args);\n",
       "    });\n",
       "</script>\n"
      ],
      "text/plain": [
       "<IPython.core.display.HTML object>"
      ]
     },
     "metadata": {},
     "output_type": "display_data"
    },
    {
     "data": {
      "text/html": [
       "<table id=\"93ac44bf-2776-4f6b-930e-d567a44cde63\" class=\"display\"style=\"max-width:100%\"><caption style=\"caption-side: top; text-align: left; font-size: 150%; margin-top: 1em; \">Season 5 &nbsp;&nbsp;<span style=\"font-size: 75%\">(block #39284410)<span></caption><thead>\n",
       "    <tr style=\"text-align: right;\">\n",
       "      \n",
       "      <th>Rarity</th>\n",
       "      <th>Equipped RF Szn 5</th>\n",
       "      <th>Total Supply</th>\n",
       "      <th>Equipped Rate</th>\n",
       "    </tr>\n",
       "  </thead><tbody><tr><td>Loading... (need <a href=https://mwouts.github.io/itables/troubleshooting.html>help</a>?)</td></tr></tbody></table>\n",
       "<style>\n",
       "table td {\n",
       "    text-overflow: ellipsis;\n",
       "    overflow: hidden;\n",
       "}\n",
       "\n",
       "table th {\n",
       "    text-overflow: ellipsis;\n",
       "    overflow: hidden;\n",
       "}\n",
       "\n",
       "thead input {\n",
       "    width: 100%;\n",
       "    padding: 3px;\n",
       "    box-sizing: border-box;\n",
       "}\n",
       "\n",
       "tfoot input {\n",
       "    width: 100%;\n",
       "    padding: 3px;\n",
       "    box-sizing: border-box;\n",
       "}\n",
       "\n",
       "</style>\n",
       "<link rel=\"stylesheet\" type=\"text/css\" href=\"https://cdn.datatables.net/1.12.1/css/jquery.dataTables.min.css\">\n",
       "<script type=\"module\">\n",
       "    // Import jquery and DataTable\n",
       "    import 'https://code.jquery.com/jquery-3.6.0.min.js';\n",
       "    import dt from 'https://cdn.datatables.net/1.12.1/js/jquery.dataTables.mjs';\n",
       "    dt($);\n",
       "\n",
       "    // Define the table data\n",
       "    const data = [[\"common\", \"15,376\", \"39,000\", \"39%\"], [\"godlike\", \"92\", \"110\", \"84%\"], [\"legendary\", \"4,611\", \"5,575\", \"83%\"], [\"mythical\", \"1,555\", \"1,850\", \"84%\"], [\"rare\", \"9,364\", \"13,079\", \"72%\"], [\"uncommon\", \"13,248\", \"23,000\", \"58%\"]];\n",
       "\n",
       "    // Define the dt_args\n",
       "    let dt_args = {\"order\": [1, \"desc\"], \"paging\": false, \"dom\": \"tr\", \"columnDefs\": [{\"className\": \"dt-left\", \"targets\": [0]}]};\n",
       "    dt_args[\"data\"] = data;\n",
       "\n",
       "    $(document).ready(function () {\n",
       "        \n",
       "        $('#93ac44bf-2776-4f6b-930e-d567a44cde63').DataTable(dt_args);\n",
       "    });\n",
       "</script>\n"
      ],
      "text/plain": [
       "<IPython.core.display.HTML object>"
      ]
     },
     "metadata": {},
     "output_type": "display_data"
    }
   ],
   "source": [
    "show_rf_equipped_by('rarity')"
   ]
  }
 ],
 "metadata": {
  "kernelspec": {
   "display_name": "Python 3.9.13 ('aavegotchi-data-science')",
   "language": "python",
   "name": "python3"
  },
  "language_info": {
   "codemirror_mode": {
    "name": "ipython",
    "version": 3
   },
   "file_extension": ".py",
   "mimetype": "text/x-python",
   "name": "python",
   "nbconvert_exporter": "python",
   "pygments_lexer": "ipython3",
   "version": "3.9.13"
  },
  "vscode": {
   "interpreter": {
    "hash": "ae5a5ab5ac49724ba5fae9eff3080cbf7ba5c647491631efe9a847132401b70c"
   }
  }
 },
 "nbformat": 4,
 "nbformat_minor": 2
}
