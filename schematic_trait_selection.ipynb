{
 "cells": [
  {
   "cell_type": "code",
   "execution_count": 1,
   "metadata": {},
   "outputs": [],
   "source": [
    "from shared import *\n",
    "from utils.wearable_fit import get_all_gotchi_wearable_fit_counts_by_slot_rarity_df, get_changes_to_rarity_slot_fit_count_stddev_df, get_changes_to_set_wearable_fit_count_stddev_df\n",
    "from utils.wearable_sets import filter_wearable_sets_by_rarity_range, get_wearable_sets_df\n",
    "\n",
    "wearable_types_df = get_wearable_types_df()\n",
    "wearable_sets_filtered_df = filter_wearable_sets_by_rarity_range(get_wearable_sets_df(wearable_types_df), wearable_types_df)"
   ]
  },
  {
   "cell_type": "code",
   "execution_count": 2,
   "metadata": {},
   "outputs": [],
   "source": [
    "gotchi_wearable_fit_counts_slot_rarity_df = get_all_gotchi_wearable_fit_counts_by_slot_rarity_df(wearable_types_df)"
   ]
  },
  {
   "cell_type": "code",
   "execution_count": 3,
   "metadata": {},
   "outputs": [],
   "source": [
    "changes_to_rarity_slot_fit_count_stddev_df = get_changes_to_rarity_slot_fit_count_stddev_df(wearable_types_df)         \n",
    "changes_to_rarity_slot_fit_count_stddev_df.sort_values(by=['rarity_sort', 'slot', 'trait_modifier_count', 'change_in_rarity_slot_fit_count_stddev'], ascending=True, inplace=True)"
   ]
  },
  {
   "attachments": {},
   "cell_type": "markdown",
   "metadata": {},
   "source": [
    "# Top Trait Modifier Choices for New Schematics\n",
    "\n",
    "Use this table to identify suitable trait modifier combinations for newly released wearable schematics given a particular rarity and slot.\n",
    "\n",
    "This table shows the top choices (up to 5) for trait modifier combinations by slot and rarity using the trait selection methodology described in the [Wearable Trait Selection: A Quantitative Approach](https://docs.google.com/document/d/1D9e2FEh5NnYXrPEK28UF7GWpsI1ybOsCY94x1kGCpJs/edit?usp=drive_link) litepaper. The respective delta standard deviations are shown for each combination (lower numbers are better). Any choices that would negatively impact meta balance (delta standard deviation > 0) have been omitted.\n",
    "\n"
   ]
  },
  {
   "cell_type": "code",
   "execution_count": 4,
   "metadata": {},
   "outputs": [
    {
     "data": {
      "text/html": [
       "<table id=\"396b9287-ff99-4b59-bec8-08e6dda579a5\" class=\"display\"style=\"max-width:100%\"><thead>\n",
       "    <tr style=\"text-align: right;\">\n",
       "      \n",
       "      <th>rarity</th>\n",
       "      <th>slot</th>\n",
       "      <th>trait_modifiers_to_add</th>\n",
       "      <th>change_in_rarity_slot_fit_count_stddev</th>\n",
       "    </tr>\n",
       "  </thead><tbody><tr><td>Loading... (need <a href=https://mwouts.github.io/itables/troubleshooting.html>help</a>?)</td></tr></tbody></table>\n",
       "<style>\n",
       "table td {\n",
       "    text-overflow: ellipsis;\n",
       "    overflow: hidden;\n",
       "}\n",
       "\n",
       "table th {\n",
       "    text-overflow: ellipsis;\n",
       "    overflow: hidden;\n",
       "}\n",
       "\n",
       "thead input {\n",
       "    width: 100%;\n",
       "    padding: 3px;\n",
       "    box-sizing: border-box;\n",
       "}\n",
       "\n",
       "tfoot input {\n",
       "    width: 100%;\n",
       "    padding: 3px;\n",
       "    box-sizing: border-box;\n",
       "}\n",
       "\n",
       "</style>\n",
       "<link rel=\"stylesheet\" type=\"text/css\" href=\"https://cdn.datatables.net/1.12.1/css/jquery.dataTables.min.css\">\n",
       "<script type=\"module\">\n",
       "    // Import jquery and DataTable\n",
       "    import 'https://code.jquery.com/jquery-3.6.0.min.js';\n",
       "    import dt from 'https://cdn.datatables.net/1.12.1/js/jquery.dataTables.mjs';\n",
       "    dt($);\n",
       "\n",
       "    // Define the table data\n",
       "    const data = [[\"common\", \"Body\", \"[['AGG-'], ['SPK-'], ['BRN+']]\", \"[-0.24, -0.24, -0.24]\"], [\"common\", \"Eyes\", \"[['NRG-'], ['BRN+']]\", \"[-0.21, -0.21]\"], [\"common\", \"Face\", \"[['NRG+'], ['AGG-']]\", \"[-0.21, -0.21]\"], [\"common\", \"Hand L\", \"[['SPK-']]\", \"[-0.52]\"], [\"common\", \"Hand L, Hand R\", \"[['NRG-'], ['AGG-'], ['BRN-']]\", \"[-0.45, -0.08, -0.08]\"], [\"common\", \"Head\", \"[['NRG+'], ['SPK-']]\", \"[-0.42, -0.12]\"], [\"common\", \"Pet\", \"[['AGG+'], ['BRN+']]\", \"[-0.21, -0.21]\"], [\"uncommon\", \"Body\", \"[['SPK-'], ['NRG-', 'SPK-'], ['SPK-', 'BRN+'], ['AGG+', 'SPK-'], ['AGG-', 'SPK-']]\", \"[-0.27, -0.15, -0.15, -0.11, -0.11]\"], [\"uncommon\", \"Eyes\", \"[['SPK-'], ['NRG-', 'SPK-'], ['SPK-', 'BRN-'], ['AGG+', 'SPK-'], ['AGG-', 'SPK-']]\", \"[-0.24, -0.17, -0.17, -0.05, -0.05]\"], [\"uncommon\", \"Face\", \"[['NRG-', 'AGG+'], ['NRG-', 'SPK-'], ['NRG-', 'BRN+'], ['AGG+', 'SPK-'], ['AGG+', 'BRN+']]\", \"[-0.19, -0.06, -0.06, -0.06, -0.06]\"], [\"uncommon\", \"Hand L, Hand R\", \"[['NRG-'], ['NRG-', 'SPK+'], ['NRG-', 'AGG-'], ['NRG-', 'BRN-'], ['AGG-', 'BRN-']]\", \"[-0.31, -0.21, -0.17, -0.17, -0.17]\"], [\"uncommon\", \"Head\", \"[['NRG-', 'AGG+'], ['AGG+', 'SPK-'], ['NRG-'], ['BRN+'], ['NRG-', 'BRN+']]\", \"[-0.25, -0.2, -0.17, -0.17, -0.15]\"], [\"uncommon\", \"Pet\", \"[['SPK+'], ['NRG+', 'SPK+'], ['SPK+', 'BRN+'], ['NRG+', 'AGG+'], ['NRG+', 'BRN-']]\", \"[-0.2, -0.14, -0.14, -0.04, -0.04]\"], [\"rare\", \"Body\", \"[['AGG+', 'SPK-'], ['SPK-'], ['SPK-', 'BRN+'], ['NRG+', 'AGG+', 'SPK-'], ['NRG-', 'AGG+', 'SPK-']]\", \"[-0.28, -0.2, -0.13, -0.12, -0.12]\"], [\"rare\", \"Eyes\", \"[['SPK-'], ['AGG+', 'SPK-'], ['NRG-', 'AGG+', 'SPK-'], ['AGG+', 'SPK-', 'BRN+'], ['NRG-', 'SPK-']]\", \"[-0.29, -0.25, -0.18, -0.18, -0.17]\"], [\"rare\", \"Face\", \"[['SPK-']]\", \"[-0.16]\"], [\"rare\", \"Hand L, Hand R\", \"[['NRG-', 'BRN+'], ['NRG-', 'SPK+'], ['NRG-'], ['BRN+'], ['NRG-', 'SPK+', 'BRN+']]\", \"[-0.27, -0.23, -0.19, -0.19, -0.18]\"], [\"rare\", \"Head\", \"[['AGG+', 'BRN-'], ['BRN-'], ['AGG+'], ['AGG+', 'SPK-', 'BRN-'], ['NRG+', 'AGG+', 'BRN-']]\", \"[-0.34, -0.31, -0.2, -0.18, -0.18]\"], [\"rare\", \"Pet\", \"[['NRG+', 'SPK+'], ['NRG+', 'BRN-'], ['SPK+', 'BRN+'], ['NRG+', 'AGG+', 'SPK+'], ['NRG+', 'AGG-', 'SPK+']]\", \"[-0.07, -0.07, -0.07, -0.02, -0.02]\"], [\"legendary\", \"Body\", \"[['NRG+', 'AGG-'], ['NRG-', 'AGG+'], ['NRG+', 'AGG-', 'SPK-'], ['NRG-', 'AGG+', 'BRN-'], ['NRG+', 'AGG-', 'BRN-']]\", \"[-0.22, -0.14, -0.1, -0.1, -0.1]\"], [\"legendary\", \"Eyes\", \"[['NRG+', 'AGG-'], ['NRG+', 'AGG-', 'SPK+'], ['NRG+', 'AGG-', 'SPK-'], ['NRG-', 'AGG+', 'SPK-'], ['NRG+', 'AGG-', 'BRN+']]\", \"[-0.17, -0.06, -0.06, -0.06, -0.06]\"], [\"legendary\", \"Face\", \"[['NRG+'], ['NRG+', 'AGG+'], ['NRG+', 'AGG-'], ['NRG+', 'SPK+'], ['NRG+', 'SPK-']]\", \"[-0.52, -0.07, -0.07, -0.07, -0.07]\"], [\"legendary\", \"Hand L\", \"[['BRN+'], ['NRG+', 'BRN+'], ['NRG-', 'BRN+'], ['AGG+', 'BRN+'], ['AGG-', 'BRN+']]\", \"[-0.52, -0.07, -0.07, -0.07, -0.07]\"], [\"legendary\", \"Hand L, Hand R\", \"[['NRG-'], ['NRG-', 'SPK+'], ['NRG-', 'BRN+'], ['AGG-', 'SPK+'], ['SPK+']]\", \"[-0.28, -0.24, -0.24, -0.24, -0.2]\"], [\"legendary\", \"Head\", \"[['NRG+', 'SPK-'], ['NRG+', 'AGG-'], ['NRG+'], ['SPK-'], ['NRG+', 'SPK-', 'BRN-']]\", \"[-0.27, -0.21, -0.16, -0.16, -0.12]\"], [\"legendary\", \"Pet\", \"[['AGG-', 'SPK-'], ['NRG+', 'AGG-', 'SPK-'], ['AGG-', 'SPK-', 'BRN+'], ['NRG+', 'AGG-'], ['NRG+', 'SPK-']]\", \"[-0.19, -0.13, -0.13, -0.06, -0.06]\"], [\"mythical\", \"Body\", \"[['SPK-', 'BRN+'], ['BRN+'], ['AGG+', 'SPK-', 'BRN+'], ['NRG-', 'SPK-', 'BRN+'], ['AGG+', 'BRN+']]\", \"[-0.28, -0.2, -0.16, -0.16, -0.13]\"], [\"mythical\", \"Eyes\", \"[['BRN-'], ['AGG-', 'BRN-'], ['NRG+', 'AGG-', 'BRN-'], ['AGG-', 'SPK+', 'BRN-'], ['AGG-', 'SPK-', 'BRN-']]\", \"[-0.24, -0.24, -0.18, -0.1, -0.1]\"], [\"mythical\", \"Face\", \"[['SPK+'], ['SPK+', 'BRN-'], ['BRN-'], ['NRG+', 'SPK+'], ['AGG+', 'SPK+']]\", \"[-0.22, -0.22, -0.1, -0.1, -0.1]\"], [\"mythical\", \"Hand L, Hand R\", \"[['SPK+', 'BRN-'], ['SPK+'], ['AGG+', 'SPK+'], ['AGG+', 'SPK+', 'BRN-'], ['NRG+', 'AGG+']]\", \"[-0.28, -0.24, -0.21, -0.19, -0.15]\"], [\"mythical\", \"Head\", \"[['NRG-', 'BRN+'], ['BRN+'], ['AGG+', 'BRN+'], ['NRG-', 'SPK-', 'BRN+'], ['NRG-', 'AGG+', 'BRN+']]\", \"[-0.29, -0.25, -0.22, -0.16, -0.16]\"], [\"mythical\", \"Pet\", \"[['NRG+', 'BRN-'], ['NRG+', 'AGG+', 'SPK+'], ['NRG+', 'AGG+', 'BRN-'], ['NRG+', 'AGG-', 'BRN-'], ['NRG+', 'SPK+', 'BRN-']]\", \"[-0.17, -0.06, -0.06, -0.06, -0.06]\"], [\"godlike\", \"Body\", \"[['AGG+', 'SPK-'], ['AGG+'], ['NRG+', 'BRN+'], ['AGG+', 'SPK-', 'BRN-'], ['AGG+', 'SPK-', 'BRN+']]\", \"[-0.21, -0.16, -0.12, -0.09, -0.09]\"], [\"godlike\", \"Eyes\", \"[['NRG+'], ['NRG+', 'SPK+'], ['NRG+', 'BRN+'], ['NRG+', 'AGG+'], ['NRG+', 'AGG-']]\", \"[-0.41, -0.22, -0.22, -0.15, -0.15]\"], [\"godlike\", \"Face\", \"[['NRG+', 'SPK+'], ['NRG+', 'BRN+'], ['SPK+', 'BRN-'], ['NRG+', 'AGG+', 'SPK+'], ['NRG+', 'AGG-', 'SPK+']]\", \"[-0.07, -0.07, -0.07, -0.02, -0.02]\"], [\"godlike\", \"Hand L, Hand R\", \"[['AGG-'], ['NRG-', 'AGG-'], ['AGG-', 'SPK+'], ['AGG-', 'BRN-'], ['AGG-', 'SPK+', 'BRN-']]\", \"[-0.3, -0.26, -0.18, -0.18, -0.15]\"], [\"godlike\", \"Head\", \"[['BRN-'], ['AGG-', 'BRN-'], ['NRG-', 'BRN-'], ['SPK-', 'BRN-'], ['AGG-', 'SPK-', 'BRN-']]\", \"[-0.44, -0.28, -0.23, -0.23, -0.13]\"], [\"godlike\", \"Pet\", \"[['AGG+'], ['NRG+', 'AGG+'], ['AGG+', 'SPK+'], ['NRG+', 'AGG+', 'BRN-'], ['NRG+', 'AGG+', 'SPK+']]\", \"[-0.21, -0.15, -0.15, -0.11, -0.11]\"]];\n",
       "\n",
       "    // Define the dt_args\n",
       "    let dt_args = {\"order\": [], \"paging\": false, \"dom\": \"tr\", \"columnDefs\": [{\"className\": \"dt-left\", \"targets\": [0]}]};\n",
       "    dt_args[\"data\"] = data;\n",
       "\n",
       "    $(document).ready(function () {\n",
       "        \n",
       "        $('#396b9287-ff99-4b59-bec8-08e6dda579a5').DataTable(dt_args);\n",
       "    });\n",
       "</script>\n"
      ],
      "text/plain": [
       "<IPython.core.display.HTML object>"
      ]
     },
     "metadata": {},
     "output_type": "display_data"
    }
   ],
   "source": [
    "NUM_CHOICES_TO_SHOW = 5\n",
    "\n",
    "def get_top_n_rows(df, group_col, value_col, n, ascending=True):\n",
    "    top_n_rows = df.groupby(group_col, as_index=False).apply(lambda x: x.sort_values(value_col, ascending=ascending).head(n))\n",
    "    top_n_rows.reset_index(drop=True, inplace=True)\n",
    "    return top_n_rows\n",
    "\n",
    "new_trait_top_choices_df = get_top_n_rows(changes_to_rarity_slot_fit_count_stddev_df[changes_to_rarity_slot_fit_count_stddev_df['change_in_rarity_slot_fit_count_stddev'] < 0], ['rarity', 'slot', 'rarity_sort'], 'change_in_rarity_slot_fit_count_stddev', NUM_CHOICES_TO_SHOW)\n",
    "new_trait_top_choices_df['change_in_rarity_slot_fit_count_stddev'] = new_trait_top_choices_df['change_in_rarity_slot_fit_count_stddev'].apply(lambda x: round(x, 2))\n",
    "new_trait_top_choices_df = new_trait_top_choices_df.groupby(['rarity', 'slot', 'rarity_sort']).agg({'trait_modifiers_to_add': list, 'change_in_rarity_slot_fit_count_stddev': list}).reset_index()\n",
    "order = new_trait_top_choices_df.sort_values(by=['rarity_sort', 'slot'], ascending=True, inplace=True)\n",
    "show_itable(new_trait_top_choices_df[['rarity', 'slot', 'trait_modifiers_to_add', 'change_in_rarity_slot_fit_count_stddev']].reset_index(drop=True), order=[])"
   ]
  },
  {
   "attachments": {},
   "cell_type": "markdown",
   "metadata": {},
   "source": [
    "# Top Trait Combinations for New Sets\n",
    "\n",
    "Use this table to determine which trait combinations fit best together in a new 3-piece set, for set balance purposes. Calculation is done by counting the number of unique wearables each gotchi could equip in a perfectly fitting set (all traits match for set bonuses and wearables). Lesser used sets (for example, sets with a high rarity spread- combining godlike with common wearables, etc) are excluded from the calculation to better reflect the usefulness of each gotchi's current sets."
   ]
  },
  {
   "cell_type": "code",
   "execution_count": 5,
   "metadata": {},
   "outputs": [
    {
     "data": {
      "text/html": [
       "<table id=\"f0c1ffa3-cd93-4f95-aca6-1a107360e7d6\" class=\"display\"style=\"max-width:100%\"><thead>\n",
       "    <tr style=\"text-align: right;\">\n",
       "      \n",
       "      <th>trait_modifiers_to_add</th>\n",
       "      <th>trait_modifier_count</th>\n",
       "      <th>change_in_fit_count_stddev</th>\n",
       "    </tr>\n",
       "  </thead><tbody><tr><td>Loading... (need <a href=https://mwouts.github.io/itables/troubleshooting.html>help</a>?)</td></tr></tbody></table>\n",
       "<style>\n",
       "table td {\n",
       "    text-overflow: ellipsis;\n",
       "    overflow: hidden;\n",
       "}\n",
       "\n",
       "table th {\n",
       "    text-overflow: ellipsis;\n",
       "    overflow: hidden;\n",
       "}\n",
       "\n",
       "thead input {\n",
       "    width: 100%;\n",
       "    padding: 3px;\n",
       "    box-sizing: border-box;\n",
       "}\n",
       "\n",
       "tfoot input {\n",
       "    width: 100%;\n",
       "    padding: 3px;\n",
       "    box-sizing: border-box;\n",
       "}\n",
       "\n",
       "</style>\n",
       "<link rel=\"stylesheet\" type=\"text/css\" href=\"https://cdn.datatables.net/1.12.1/css/jquery.dataTables.min.css\">\n",
       "<script type=\"module\">\n",
       "    // Import jquery and DataTable\n",
       "    import 'https://code.jquery.com/jquery-3.6.0.min.js';\n",
       "    import dt from 'https://cdn.datatables.net/1.12.1/js/jquery.dataTables.mjs';\n",
       "    dt($);\n",
       "\n",
       "    // Define the table data\n",
       "    const data = [[\"['NRG+']\", \"1\", \"0.12\"], [\"['NRG-']\", \"1\", \"0.08\"], [\"['AGG+']\", \"1\", \"-0.12\"], [\"['AGG-']\", \"1\", \"0.32\"], [\"['SPK+']\", \"1\", \"0.57\"], [\"['SPK-']\", \"1\", \"-0.38\"], [\"['BRN+']\", \"1\", \"0.10\"], [\"['BRN-']\", \"1\", \"0.10\"], [\"['NRG+', 'AGG+']\", \"2\", \"0.23\"], [\"['NRG+', 'AGG-']\", \"2\", \"-0.06\"], [\"['NRG-', 'AGG+']\", \"2\", \"-0.30\"], [\"['NRG-', 'AGG-']\", \"2\", \"0.43\"], [\"['NRG+', 'SPK+']\", \"2\", \"0.56\"], [\"['NRG+', 'SPK-']\", \"2\", \"-0.41\"], [\"['NRG-', 'SPK+']\", \"2\", \"0.06\"], [\"['NRG-', 'SPK-']\", \"2\", \"0.08\"], [\"['NRG+', 'BRN+']\", \"2\", \"0.06\"], [\"['NRG+', 'BRN-']\", \"2\", \"0.11\"], [\"['NRG-', 'BRN+']\", \"2\", \"0.09\"], [\"['NRG-', 'BRN-']\", \"2\", \"0.04\"], [\"['AGG+', 'SPK+']\", \"2\", \"0.70\"], [\"['AGG+', 'SPK-']\", \"2\", \"-0.82\"], [\"['AGG-', 'SPK+']\", \"2\", \"-0.09\"], [\"['AGG-', 'SPK-']\", \"2\", \"0.46\"], [\"['AGG+', 'BRN+']\", \"2\", \"-0.36\"], [\"['AGG+', 'BRN-']\", \"2\", \"0.28\"], [\"['AGG-', 'BRN+']\", \"2\", \"0.49\"], [\"['AGG-', 'BRN-']\", \"2\", \"-0.13\"], [\"['SPK+', 'BRN+']\", \"2\", \"0.43\"], [\"['SPK+', 'BRN-']\", \"2\", \"0.19\"], [\"['SPK-', 'BRN+']\", \"2\", \"-0.28\"], [\"['SPK-', 'BRN-']\", \"2\", \"-0.04\"], [\"['NRG+', 'AGG+', 'SPK+']\", \"3\", \"0.66\"], [\"['NRG+', 'AGG+', 'SPK-']\", \"3\", \"-0.44\"], [\"['NRG+', 'AGG-', 'SPK+']\", \"3\", \"-0.09\"], [\"['NRG+', 'AGG-', 'SPK-']\", \"3\", \"0.04\"], [\"['NRG-', 'AGG+', 'SPK+']\", \"3\", \"0.06\"], [\"['NRG-', 'AGG+', 'SPK-']\", \"3\", \"-0.35\"], [\"['NRG-', 'AGG-', 'SPK+']\", \"3\", \"0.01\"], [\"['NRG-', 'AGG-', 'SPK-']\", \"3\", \"0.43\"], [\"['NRG+', 'AGG+', 'BRN+']\", \"3\", \"-0.09\"], [\"['NRG+', 'AGG+', 'BRN-']\", \"3\", \"0.33\"], [\"['NRG+', 'AGG-', 'BRN+']\", \"3\", \"0.16\"], [\"['NRG+', 'AGG-', 'BRN-']\", \"3\", \"-0.21\"], [\"['NRG-', 'AGG+', 'BRN+']\", \"3\", \"-0.25\"], [\"['NRG-', 'AGG+', 'BRN-']\", \"3\", \"-0.04\"], [\"['NRG-', 'AGG-', 'BRN+']\", \"3\", \"0.35\"], [\"['NRG-', 'AGG-', 'BRN-']\", \"3\", \"0.10\"], [\"['NRG+', 'SPK+', 'BRN+']\", \"3\", \"0.33\"], [\"['NRG+', 'SPK+', 'BRN-']\", \"3\", \"0.25\"], [\"['NRG+', 'SPK-', 'BRN+']\", \"3\", \"-0.27\"], [\"['NRG+', 'SPK-', 'BRN-']\", \"3\", \"-0.13\"], [\"['NRG-', 'SPK+', 'BRN+']\", \"3\", \"0.11\"], [\"['NRG-', 'SPK+', 'BRN-']\", \"3\", \"-0.04\"], [\"['NRG-', 'SPK-', 'BRN+']\", \"3\", \"-0.01\"], [\"['NRG-', 'SPK-', 'BRN-']\", \"3\", \"0.10\"], [\"['AGG+', 'SPK+', 'BRN+']\", \"3\", \"0.28\"], [\"['AGG+', 'SPK+', 'BRN-']\", \"3\", \"0.45\"], [\"['AGG+', 'SPK-', 'BRN+']\", \"3\", \"-0.64\"], [\"['AGG+', 'SPK-', 'BRN-']\", \"3\", \"-0.16\"], [\"['AGG-', 'SPK+', 'BRN+']\", \"3\", \"0.16\"], [\"['AGG-', 'SPK+', 'BRN-']\", \"3\", \"-0.25\"], [\"['AGG-', 'SPK-', 'BRN+']\", \"3\", \"0.35\"], [\"['AGG-', 'SPK-', 'BRN-']\", \"3\", \"0.13\"], [\"['NRG+', 'AGG+', 'SPK+', 'BRN+']\", \"4\", \"0.26\"], [\"['NRG+', 'AGG+', 'SPK+', 'BRN-']\", \"4\", \"0.41\"], [\"['NRG+', 'AGG+', 'SPK-', 'BRN+']\", \"4\", \"-0.36\"], [\"['NRG+', 'AGG+', 'SPK-', 'BRN-']\", \"4\", \"-0.08\"], [\"['NRG+', 'AGG-', 'SPK+', 'BRN+']\", \"4\", \"0.07\"], [\"['NRG+', 'AGG-', 'SPK+', 'BRN-']\", \"4\", \"-0.16\"], [\"['NRG+', 'AGG-', 'SPK-', 'BRN+']\", \"4\", \"0.09\"], [\"['NRG+', 'AGG-', 'SPK-', 'BRN-']\", \"4\", \"-0.04\"], [\"['NRG-', 'AGG+', 'SPK+', 'BRN+']\", \"4\", \"0.02\"], [\"['NRG-', 'AGG+', 'SPK+', 'BRN-']\", \"4\", \"0.04\"], [\"['NRG-', 'AGG+', 'SPK-', 'BRN+']\", \"4\", \"-0.27\"], [\"['NRG-', 'AGG+', 'SPK-', 'BRN-']\", \"4\", \"-0.08\"], [\"['NRG-', 'AGG-', 'SPK+', 'BRN+']\", \"4\", \"0.09\"], [\"['NRG-', 'AGG-', 'SPK+', 'BRN-']\", \"4\", \"-0.08\"], [\"['NRG-', 'AGG-', 'SPK-', 'BRN+']\", \"4\", \"0.26\"], [\"['NRG-', 'AGG-', 'SPK-', 'BRN-']\", \"4\", \"0.18\"]];\n",
       "\n",
       "    // Define the dt_args\n",
       "    let dt_args = {\"order\": [[2, \"asc\"]], \"paging\": true, \"dom\": \"lftipr\", \"columnDefs\": [{\"className\": \"dt-left\", \"targets\": [0]}]};\n",
       "    dt_args[\"data\"] = data;\n",
       "\n",
       "    $(document).ready(function () {\n",
       "        \n",
       "        $('#f0c1ffa3-cd93-4f95-aca6-1a107360e7d6').DataTable(dt_args);\n",
       "    });\n",
       "</script>\n"
      ],
      "text/plain": [
       "<IPython.core.display.HTML object>"
      ]
     },
     "metadata": {},
     "output_type": "display_data"
    }
   ],
   "source": [
    "changes_to_set_wearable_fit_count_stddev_df = get_changes_to_set_wearable_fit_count_stddev_df(wearable_types_df, wearable_sets_filtered_df, num_pieces_in_set=3)\n",
    "show_itable_long(changes_to_set_wearable_fit_count_stddev_df, order=[[2, 'asc']], column_formats={'change_in_fit_count_stddev': '{:.2f}'})"
   ]
  }
 ],
 "metadata": {
  "kernelspec": {
   "display_name": "aavegotchi-data-science",
   "language": "python",
   "name": "python3"
  },
  "language_info": {
   "codemirror_mode": {
    "name": "ipython",
    "version": 3
   },
   "file_extension": ".py",
   "mimetype": "text/x-python",
   "name": "python",
   "nbconvert_exporter": "python",
   "pygments_lexer": "ipython3",
   "version": "3.9.13"
  },
  "orig_nbformat": 4
 },
 "nbformat": 4,
 "nbformat_minor": 2
}
